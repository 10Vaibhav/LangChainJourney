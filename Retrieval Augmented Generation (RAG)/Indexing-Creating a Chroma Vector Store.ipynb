{
 "cells": [
  {
   "cell_type": "markdown",
   "id": "709534d7",
   "metadata": {},
   "source": [
    "# Indexing: Creating a Chroma Vector Store"
   ]
  },
  {
   "cell_type": "code",
   "execution_count": 1,
   "id": "c6d71a1f",
   "metadata": {},
   "outputs": [],
   "source": [
    "%load_ext dotenv\n",
    "%dotenv"
   ]
  },
  {
   "cell_type": "code",
   "execution_count": 5,
   "id": "aca4c293",
   "metadata": {},
   "outputs": [],
   "source": [
    "from langchain_community.document_loaders import Docx2txtLoader\n",
    "from langchain_text_splitters.markdown import MarkdownHeaderTextSplitter\n",
    "from langchain_text_splitters.character import CharacterTextSplitter\n",
    "from langchain_openai.embeddings import OpenAIEmbeddings\n",
    "from langchain_community.vectorstores import Chroma"
   ]
  },
  {
   "cell_type": "code",
   "execution_count": 3,
   "id": "c3b09da1",
   "metadata": {},
   "outputs": [],
   "source": [
    "loader_docx = Docx2txtLoader(\"Introduction_to_Data_and_Data_Science_2.docx\")\n",
    "pages = loader_docx.load()\n",
    "\n",
    "md_splitter = MarkdownHeaderTextSplitter(\n",
    "    headers_to_split_on = [(\"#\", \"Course Title\"),\n",
    "                           (\"##\", \"Lecture Title\")]\n",
    ")\n",
    "\n",
    "pages_md_split = md_splitter.split_text(pages[0].page_content)\n",
    "\n",
    "for i in range(len(pages_md_split)):\n",
    "    pages_md_split[i].page_content = ' '.join(pages_md_split[i].page_content.split())\n",
    "\n",
    "char_splitter = CharacterTextSplitter(\n",
    "    separator = \".\",\n",
    "    chunk_size = 500,\n",
    "    chunk_overlap = 50\n",
    ")\n",
    "\n",
    "pages_char_split = char_splitter.split_documents(pages_md_split)\n",
    "\n",
    "embedding = OpenAIEmbeddings(model = \"text-embedding-ada-002\")"
   ]
  },
  {
   "cell_type": "code",
   "execution_count": 4,
   "id": "e821dbc1",
   "metadata": {},
   "outputs": [
    {
     "data": {
      "text/plain": [
       "20"
      ]
     },
     "execution_count": 4,
     "metadata": {},
     "output_type": "execute_result"
    }
   ],
   "source": [
    "len(pages_char_split)"
   ]
  },
  {
   "cell_type": "code",
   "execution_count": 6,
   "id": "51e3b3ab",
   "metadata": {},
   "outputs": [],
   "source": [
    "vectorstore = Chroma.from_documents(documents= pages_char_split, embedding= embedding, persist_directory= \"./intro-to-ds_lectures\")"
   ]
  },
  {
   "cell_type": "code",
   "execution_count": 8,
   "id": "04501e0f",
   "metadata": {},
   "outputs": [],
   "source": [
    "# The documents in the vectorstore can be updated, or new ones can be added.\n",
    "# The vectorstore needs to know which embedding function to use to maintain consistency \n",
    "# and accuracy in the representation of existing and newly added documents.\n",
    "vectorstore_from_directory = Chroma(persist_directory = \"./intro-to-ds_lectures\", embedding_function= embedding)"
   ]
  },
  {
   "cell_type": "code",
   "execution_count": null,
   "id": "dbd14b02",
   "metadata": {},
   "outputs": [],
   "source": []
  }
 ],
 "metadata": {
  "kernelspec": {
   "display_name": "Langchain_env",
   "language": "python",
   "name": "langchain_env"
  },
  "language_info": {
   "codemirror_mode": {
    "name": "ipython",
    "version": 3
   },
   "file_extension": ".py",
   "mimetype": "text/x-python",
   "name": "python",
   "nbconvert_exporter": "python",
   "pygments_lexer": "ipython3",
   "version": "3.12.3"
  }
 },
 "nbformat": 4,
 "nbformat_minor": 5
}
