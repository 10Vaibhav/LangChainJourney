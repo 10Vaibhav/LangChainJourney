{
 "cells": [
  {
   "cell_type": "markdown",
   "id": "45bfe79f",
   "metadata": {},
   "source": [
    "# Retrieval - Maximal Marginal Relevance Search"
   ]
  },
  {
   "cell_type": "code",
   "execution_count": 3,
   "id": "35bdde0e",
   "metadata": {},
   "outputs": [],
   "source": [
    "# semantic similarity Search Algorithm \n",
    "# -> perform quite well in retrieving content relevant to a user's prompt.\n",
    "# -> If a vectorstore contained duplicate documents with a high similarity score,\n",
    "#    the method would retrieve both the original and the duplicate.\n",
    "# -> chance of missing the important chunk(information)"
   ]
  },
  {
   "cell_type": "code",
   "execution_count": 4,
   "id": "039f8949",
   "metadata": {},
   "outputs": [],
   "source": [
    "%load_ext dotenv\n",
    "%dotenv"
   ]
  },
  {
   "cell_type": "code",
   "execution_count": 5,
   "id": "57a01aa9",
   "metadata": {},
   "outputs": [],
   "source": [
    "from langchain_openai.embeddings import OpenAIEmbeddings\n",
    "from langchain_chroma import Chroma\n",
    "from langchain_core.documents import Document"
   ]
  },
  {
   "cell_type": "code",
   "execution_count": 11,
   "id": "7f7b12fc",
   "metadata": {},
   "outputs": [],
   "source": [
    "embedding = OpenAIEmbeddings(model=\"text-embedding-ada-002\")"
   ]
  },
  {
   "cell_type": "code",
   "execution_count": 12,
   "id": "f7bdd965",
   "metadata": {},
   "outputs": [],
   "source": [
    "vectorstore = Chroma(persist_directory = \"./intro-to-ds_lectures\",\n",
    "                     embedding_function = embedding)"
   ]
  },
  {
   "cell_type": "code",
   "execution_count": 13,
   "id": "f544fc1f",
   "metadata": {},
   "outputs": [],
   "source": [
    "question = \"What software do data scientist use?\""
   ]
  },
  {
   "cell_type": "code",
   "execution_count": 22,
   "id": "78e6b5c8",
   "metadata": {},
   "outputs": [],
   "source": [
    "retrieved_docs = vectorstore.max_marginal_relevance_search(\n",
    "    query = question,\n",
    "    k = 3,\n",
    "    lambda_mult = 0.7,\n",
    "    filter = {\"Lecture Title\": \"Programming Languages & Software Employed in Data Science - All the Tools You Need\"}\n",
    ")\n",
    "# lambda_mult controls the trade-off between relevance and diversity in the results \n",
    "# a value of 0.1 means the search strongly prioritizes diversity over relevance, while 1.0 would prioritize pure relevance\n",
    "# typical values are 0.5-0.7 for balanced results"
   ]
  },
  {
   "cell_type": "code",
   "execution_count": 23,
   "id": "3e98b1de",
   "metadata": {},
   "outputs": [
    {
     "data": {
      "text/plain": [
       "[Document(id='31516de1-c124-4733-b963-4d9bee217a49', metadata={'Course Title': 'Introduction to Data and Data Science', 'Lecture Title': 'Programming Languages & Software Employed in Data Science - All the Tools You Need'}, page_content='As you can see from the infographic, R, and Python are the two most popular tools across all columns. Their biggest advantage is that they can manipulate data and are integrated within multiple data and data science software platforms. They are not just suitable for mathematical and statistical computations. In other words, R, and Python are adaptable. They can solve a wide variety of business and data-related problems from beginning to the end'),\n",
       " Document(id='7fc623f3-dc5a-44d6-b6c9-4076d21e8ce3', metadata={'Lecture Title': 'Programming Languages & Software Employed in Data Science - All the Tools You Need', 'Course Title': 'Introduction to Data and Data Science'}, page_content='It’s actually a software framework which was designed to address the complexity of big data and its computational intensity. Most notably, Hadoop distributes the computational tasks on multiple computers which is basically the way to handle big data nowadays. Power BI, SaS, Qlik, and especially Tableau are top-notch examples of software designed for business intelligence visualizations'),\n",
       " Document(id='c913caff-9adf-4202-8d46-8fb18b526d81', metadata={'Course Title': 'Introduction to Data and Data Science', 'Lecture Title': 'Programming Languages & Software Employed in Data Science - All the Tools You Need'}, page_content='Great! We hope we gave you a good idea about the level of applicability of the most frequently used programming and software tools in the field of data science. Thank you for watching!')]"
      ]
     },
     "execution_count": 23,
     "metadata": {},
     "output_type": "execute_result"
    }
   ],
   "source": [
    "retrieved_docs"
   ]
  },
  {
   "cell_type": "code",
   "execution_count": 24,
   "id": "fc99295c",
   "metadata": {},
   "outputs": [
    {
     "name": "stdout",
     "output_type": "stream",
     "text": [
      "Page Content: As you can see from the infographic, R, and Python are the two most popular tools across all columns. Their biggest advantage is that they can manipulate data and are integrated within multiple data and data science software platforms. They are not just suitable for mathematical and statistical computations. In other words, R, and Python are adaptable. They can solve a wide variety of business and data-related problems from beginning to the end\n",
      "-----------\n",
      "Lecture Title: Programming Languages & Software Employed in Data Science - All the Tools You Need\n",
      "\n",
      "Page Content: It’s actually a software framework which was designed to address the complexity of big data and its computational intensity. Most notably, Hadoop distributes the computational tasks on multiple computers which is basically the way to handle big data nowadays. Power BI, SaS, Qlik, and especially Tableau are top-notch examples of software designed for business intelligence visualizations\n",
      "-----------\n",
      "Lecture Title: Programming Languages & Software Employed in Data Science - All the Tools You Need\n",
      "\n",
      "Page Content: Great! We hope we gave you a good idea about the level of applicability of the most frequently used programming and software tools in the field of data science. Thank you for watching!\n",
      "-----------\n",
      "Lecture Title: Programming Languages & Software Employed in Data Science - All the Tools You Need\n",
      "\n"
     ]
    }
   ],
   "source": [
    "for i in retrieved_docs:\n",
    "    print(f\"Page Content: {i.page_content}\\n-----------\\nLecture Title: {i.metadata[\"Lecture Title\"]}\\n\")"
   ]
  },
  {
   "cell_type": "code",
   "execution_count": null,
   "id": "cecc8bd3",
   "metadata": {},
   "outputs": [],
   "source": []
  }
 ],
 "metadata": {
  "kernelspec": {
   "display_name": "Langchain_env",
   "language": "python",
   "name": "langchain_env"
  },
  "language_info": {
   "codemirror_mode": {
    "name": "ipython",
    "version": 3
   },
   "file_extension": ".py",
   "mimetype": "text/x-python",
   "name": "python",
   "nbconvert_exporter": "python",
   "pygments_lexer": "ipython3",
   "version": "3.12.3"
  }
 },
 "nbformat": 4,
 "nbformat_minor": 5
}
