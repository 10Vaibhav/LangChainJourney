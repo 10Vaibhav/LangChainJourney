{
 "cells": [
  {
   "cell_type": "markdown",
   "id": "2fe1bbe8",
   "metadata": {},
   "source": [
    "# Generation: Stuffing Documents"
   ]
  },
  {
   "cell_type": "code",
   "execution_count": 1,
   "id": "ac454921",
   "metadata": {},
   "outputs": [],
   "source": [
    "%load_ext dotenv\n",
    "%dotenv"
   ]
  },
  {
   "cell_type": "code",
   "execution_count": 4,
   "id": "71f2a63a",
   "metadata": {},
   "outputs": [],
   "source": [
    "from langchain_openai.embeddings import OpenAIEmbeddings\n",
    "from langchain_chroma import Chroma\n",
    "from langchain_core.prompts import PromptTemplate\n",
    "from langchain_openai import ChatOpenAI\n",
    "from langchain_core.runnables import RunnablePassthrough\n",
    "from langchain_core.runnables import RunnableParallel\n",
    "from langchain_core.output_parsers import StrOutputParser"
   ]
  },
  {
   "cell_type": "code",
   "execution_count": 5,
   "id": "29909895",
   "metadata": {},
   "outputs": [],
   "source": [
    "vectorstore = Chroma(persist_directory = \"./intro-to-ds_lectures\",\n",
    "                     embedding_function = OpenAIEmbeddings(model=\"text-embedding-ada-002\"))"
   ]
  },
  {
   "cell_type": "code",
   "execution_count": 6,
   "id": "5f51c0d0",
   "metadata": {},
   "outputs": [
    {
     "data": {
      "text/plain": [
       "21"
      ]
     },
     "execution_count": 6,
     "metadata": {},
     "output_type": "execute_result"
    }
   ],
   "source": [
    "len(vectorstore.get()[\"documents\"])"
   ]
  },
  {
   "cell_type": "code",
   "execution_count": 7,
   "id": "c915f809",
   "metadata": {},
   "outputs": [],
   "source": [
    "retriever = vectorstore.as_retriever(search_type = \"mmr\", search_kwargs = {\"k\": 3, \"lambda_mult\": 0.7})"
   ]
  },
  {
   "cell_type": "code",
   "execution_count": 9,
   "id": "b23acddf",
   "metadata": {},
   "outputs": [],
   "source": [
    "TEMPLATE = '''\n",
    "Answer the following question:\n",
    "{question}\n",
    "\n",
    "To answer the question, use only the following context:\n",
    "{context}\n",
    "\n",
    "At the end of the response, specify the name of the lecture this context is taken from in the format:\n",
    "Resources: *Lecture Title*\n",
    "where *Lecture Title* should be substituted with the title of all resource lectures.\n",
    "'''\n",
    "\n",
    "prompt_template = PromptTemplate.from_template(TEMPLATE)"
   ]
  },
  {
   "cell_type": "code",
   "execution_count": 10,
   "id": "abe887b3",
   "metadata": {},
   "outputs": [
    {
     "name": "stderr",
     "output_type": "stream",
     "text": [
      "C:\\Users\\Asus\\.conda\\envs\\Langchain_env\\Lib\\site-packages\\IPython\\core\\interactiveshell.py:3639: UserWarning: Parameters {'seed'} should be specified explicitly. Instead they were passed in as part of `model_kwargs` parameter.\n",
      "  if await self.run_code(code, result, async_=asy):\n"
     ]
    }
   ],
   "source": [
    "chat = ChatOpenAI(model_name = \"gpt-4\",\n",
    "                  model_kwargs = {\"seed\": 365},\n",
    "                  max_tokens = 250)"
   ]
  },
  {
   "cell_type": "code",
   "execution_count": 11,
   "id": "eef68023",
   "metadata": {},
   "outputs": [],
   "source": [
    "question = \"What Software do data scientists use?\""
   ]
  },
  {
   "cell_type": "code",
   "execution_count": 29,
   "id": "7850c6c7",
   "metadata": {},
   "outputs": [],
   "source": [
    "chain = ({\"context\":retriever, \"question\": RunnablePassthrough()} | prompt_template | chat | StrOutputParser())"
   ]
  },
  {
   "cell_type": "code",
   "execution_count": 30,
   "id": "0e11517d",
   "metadata": {},
   "outputs": [
    {
     "data": {
      "text/plain": [
       "'Data scientists often utilize software such as R and Python, two highly popular tools in the field. R and Python are very adaptable and capable of handling a wide variety of business and data-related problems. They are often integrated within various data and data science software platforms. In addition, Hadoop, a software framework designed for the complexity of big data, is also used. It distributes computational tasks on multiple computers. There are also several examples of software specially designed for business intelligence visualizations, including Power BI, SaS, Qlik, and Tableau.\\n\\nResources: Programming Languages & Software Employed in Data Science - All the Tools You Need'"
      ]
     },
     "execution_count": 30,
     "metadata": {},
     "output_type": "execute_result"
    }
   ],
   "source": [
    "chain.invoke(question)"
   ]
  },
  {
   "cell_type": "code",
   "execution_count": 25,
   "id": "7880a9b9",
   "metadata": {},
   "outputs": [
    {
     "name": "stdout",
     "output_type": "stream",
     "text": [
      "Data scientists often utilize software such as R and Python, two highly adaptable tools which are not only popular but also capable of handling a wide variety of business and data-related issues. They are often integrated within multiple data and data science software platforms and are suitable for mathematical and statistical computations. Another significant software tool is Hadoop, a software framework created to manage the complexity and computational intensity of big data by distributing tasks across multiple computers. Furthermore, software designed for business intelligence visualizations, like Power BI, SaS, Qlik, and especially Tableau, are also used by data scientists.\n",
      "\n",
      "Resources: Programming Languages & Software Employed in Data Science - All the Tools You Need\n"
     ]
    }
   ],
   "source": [
    "print(\"Data scientists often utilize software such as R and Python, two highly adaptable tools which are not only popular but also capable of handling a wide variety of business and data-related issues. They are often integrated within multiple data and data science software platforms and are suitable for mathematical and statistical computations. Another significant software tool is Hadoop, a software framework created to manage the complexity and computational intensity of big data by distributing tasks across multiple computers. Furthermore, software designed for business intelligence visualizations, like Power BI, SaS, Qlik, and especially Tableau, are also used by data scientists.\\n\\nResources: Programming Languages & Software Employed in Data Science - All the Tools You Need\")"
   ]
  },
  {
   "cell_type": "code",
   "execution_count": null,
   "id": "e0ca3a1d",
   "metadata": {},
   "outputs": [],
   "source": []
  },
  {
   "cell_type": "code",
   "execution_count": null,
   "id": "63322c3e",
   "metadata": {},
   "outputs": [],
   "source": []
  }
 ],
 "metadata": {
  "kernelspec": {
   "display_name": "Langchain_env",
   "language": "python",
   "name": "langchain_env"
  },
  "language_info": {
   "codemirror_mode": {
    "name": "ipython",
    "version": 3
   },
   "file_extension": ".py",
   "mimetype": "text/x-python",
   "name": "python",
   "nbconvert_exporter": "python",
   "pygments_lexer": "ipython3",
   "version": "3.12.3"
  }
 },
 "nbformat": 4,
 "nbformat_minor": 5
}
