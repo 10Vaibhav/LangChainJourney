{
 "cells": [
  {
   "cell_type": "markdown",
   "id": "62856320",
   "metadata": {},
   "source": [
    "# Indexing- Inspecting and Managing Documents in a vectorstore"
   ]
  },
  {
   "cell_type": "code",
   "execution_count": 1,
   "id": "b7b21ce5",
   "metadata": {},
   "outputs": [],
   "source": [
    "%load_ext dotenv \n",
    "%dotenv"
   ]
  },
  {
   "cell_type": "code",
   "execution_count": 8,
   "id": "cd998bce",
   "metadata": {},
   "outputs": [],
   "source": [
    "from langchain_openai.embeddings import OpenAIEmbeddings\n",
    "# from langchain_community.vectorstores import Chroma\n",
    "from langchain_chroma import Chroma\n",
    "from langchain_core.documents import Document"
   ]
  },
  {
   "cell_type": "code",
   "execution_count": 3,
   "id": "e6f4ced7",
   "metadata": {},
   "outputs": [],
   "source": [
    "embedding = OpenAIEmbeddings(model = \"text-embedding-ada-002\")"
   ]
  },
  {
   "cell_type": "code",
   "execution_count": 9,
   "id": "df2194b1",
   "metadata": {},
   "outputs": [],
   "source": [
    "vectorstore_from_directory = Chroma(persist_directory = \"./intro-to-ds_lectures\",\n",
    "                                    embedding_function = embedding)"
   ]
  },
  {
   "cell_type": "code",
   "execution_count": 10,
   "id": "c938253a",
   "metadata": {},
   "outputs": [
    {
     "data": {
      "text/plain": [
       "{'ids': ['9564def8-2eb5-41dc-a72b-ea6f218ccd7f',\n",
       "  'f9817213-a758-4c2d-ba08-14e11a902e4e',\n",
       "  'e02d3793-dd23-40b9-8a2e-1f5b630cde49',\n",
       "  '525b80f7-3d3a-4783-a08c-5ee6d4099399',\n",
       "  'a2f8d637-0b6f-40da-8ed7-8d1d5b5e9896',\n",
       "  '860b8ba7-cec0-4721-a23b-ac6a151c6b41',\n",
       "  'e7aed405-9d8c-48c5-a3e5-ef938341889b',\n",
       "  '44bbf92a-294d-4bfa-932d-edb7534023d4',\n",
       "  '9c7ac950-3596-4cd4-a18b-1a9465913bd2',\n",
       "  '31516de1-c124-4733-b963-4d9bee217a49',\n",
       "  '0fbcaf76-f918-4141-89f4-38554bd67895',\n",
       "  'a968576f-bde6-4774-8b3a-5915a1149579',\n",
       "  'abf50bbc-9df6-4fbe-9792-433567d74bef',\n",
       "  '2940805b-ccaa-4a8f-969a-7bedd8eac90e',\n",
       "  '99cfee50-9427-4d6f-9a48-b65acd58f51c',\n",
       "  'f884be14-9cac-4e5e-ab2a-e50abe6150d7',\n",
       "  '7fc623f3-dc5a-44d6-b6c9-4076d21e8ce3',\n",
       "  '69a28796-a128-48e7-8fe9-efa7f284d8e1',\n",
       "  'ca09488d-414d-4ea6-8dd4-3461813aed5d',\n",
       "  'c913caff-9adf-4202-8d46-8fb18b526d81'],\n",
       " 'embeddings': None,\n",
       " 'documents': ['Alright! So… Let’s discuss the not-so-obvious differences between the terms analysis and analytics. Due to the similarity of the words, some people believe they share the same meaning, and thus use them interchangeably. Technically, this isn’t correct. There is, in fact, a distinct difference between the two. And the reason for one often being used instead of the other is the lack of a transparent understanding of both. So, let’s clear this up, shall we? First, we will start with analysis',\n",
       "  'Consider the following… You have a huge dataset containing data of various types. Instead of tackling the entire dataset and running the risk of becoming overwhelmed, you separate it into easier to digest chunks and study them individually and examine how they relate to other parts. And that’s analysis in a nutshell. One important thing to remember, however, is that you perform analyses on things that have already happened in the past',\n",
       "  'Such as using an analysis to explain how a story ended the way it did or how there was a decrease in sales last summer. All this means that we do analyses to explain how and/or why something happened. Great! Now, this leads us nicely on to the definition of analytics. As you have probably guessed, analytics generally refers to the future. Instead of explaining past events it explores potential future ones',\n",
       "  'Analytics is essentially the application of logical and computational reasoning to the component parts obtained in an analysis. And in doing this you are looking for patterns and exploring what you could do with them in the future. Here, analytics branches off into two areas: qualitative analytics – this is using your intuition and experience in conjunction with the analysis to plan your next business move',\n",
       "  \"And quantitative analytics – this is applying formulas and algorithms to numbers you have gathered from your analysis. Here are a couple of examples. Say, you are an owner of an online clothing store. You are ahead of the competition and have a great understanding of what your customer's needs and wants are. You’ve performed a very detailed analysis from women’s clothing articles and feel sure about which fashion trends to follow\",\n",
       "  'You may use this intuition to decide on which styles of clothing to start selling. This would be qualitative analytics. But you might not know when to introduce the new collection. In that case, relying on past sales data and user experience data, you could predict in which month it would be best to do that. This is an example of using quantitative analytics',\n",
       "  'Fantastic! To backtrack a little, you can combine these areas with analyses also – you could perform qualitative analysis – to explain how or why a story ended the way it did. And you can perform quantitative analysis – working with past data to explain how sales decreased last summer',\n",
       "  'Perfect! Now that we have cleared up the differences between analysis and analytics it shouldn’t be too difficult to see how terms such as ‘data analysis’, ‘data analytics’, ‘business analysis’ and ‘business analytics’ can have their unique meanings too. More of this will be explained in the next video which aims to simplify these, as well as many more with a fantastic diagram. So, let’s move on!',\n",
       "  'Alright! So… How are the techniques used in data, business intelligence, or predictive analytics applied in real life? Certainly, with the help of computers. You can basically split the relevant tools into two categories—programming languages and software. Knowing a programming language enables you to devise programs that can execute specific operations. Moreover, you can reuse these programs whenever you need to execute the same action',\n",
       "  'As you can see from the infographic, R, and Python are the two most popular tools across all columns. Their biggest advantage is that they can manipulate data and are integrated within multiple data and data science software platforms. They are not just suitable for mathematical and statistical computations. In other words, R, and Python are adaptable. They can solve a wide variety of business and data-related problems from beginning to the end',\n",
       "  'Of course, R, and Python do have their limitations. They are not able to address problems specific to some domains. One example is ‘relational database management systems’—there, SQL is king. It was specifically created for that purpose. SQL is at its most advantageous when working with traditional, historical data. When preparing your BI analysis, for instance, you will surely employ it. Okay. When it comes to data science, mentioning MATLAB is inevitable',\n",
       "  'It is ideal for working with mathematical functions or matrix manipulations. That’s why it is present in all categories except for ‘big data’. While respectable, MATLAB usage is a paid service, and that’s one of the reasons why it is losing ground to open-source languages like R and Python. Either way, R, Python, and MATLAB, combined with SQL, cover most of the tools used when working with traditional data, BI, and conventional data science',\n",
       "  'What about big data? Apart from R and Python, people working in this area are often proficient in other languages like Java or Scala. These two have not been developed specifically for doing statistical analyses, however they turn out to be very useful when combining data from multiple sources. All right! Let’s finish off with machine learning. When it comes to machine learning, we often deal with big data',\n",
       "  'Thus, we need a lot of computational power, and we can expect people to use the languages similar to those in the big data column. Apart from R, Python, and MATLAB, other, faster languages are used like Java, JavaScript, C, C++, and Scala. Cool. What we said may be wonderful, but that’s not all! By using one or more programming languages, people create application software or, as they are sometimes called, software solutions, that are adjusted for specific business needs',\n",
       "  'Their smaller scope does not make them less useful, in fact, just the opposite—they are a lot easier to learn and be adopted by others. You have already heard of several of those. Because of its ability to do relatively complex computations and good visualizations quickly, Excel is a tool applicable to more than one category—traditional data, BI, and Data Science. Similarly, SPSS is a very famous tool for working with traditional data and applying statistical analysis',\n",
       "  'Among the many applications we have plotted, we can say there is an increasing amount of software designed for working with big data such as Apache Hadoop, Apache Hbase, and Mongo DB. In terms of big data, Hadoop is the name that must stick with you. Hadoop is listed as a software in the sense that it is a collection of programs, but don’t imagine it as a nice-looking application',\n",
       "  'It’s actually a software framework which was designed to address the complexity of big data and its computational intensity. Most notably, Hadoop distributes the computational tasks on multiple computers which is basically the way to handle big data nowadays. Power BI, SaS, Qlik, and especially Tableau are top-notch examples of software designed for business intelligence visualizations',\n",
       "  'In terms of predictive analytics, EViews is mostly used for working with econometric time-series models, and Stata—for academic statistical and econometric research, where techniques like regression, cluster, and factor analysis are constantly applied. As a final note, remember the following. Should you have the relevant business and theoretical knowledge, learning a software tool is relatively easy as opposed to learning a programming language',\n",
       "  'More importantly, it will be sufficient for your need to create quick and accurate analyses. However, if your theoretical preparation is strong enough, you will find yourself restricted by software. Knowing a programming language such as R and Python, gives you the freedom to create specific, ad-hoc tools for each project you are working on',\n",
       "  'Great! We hope we gave you a good idea about the level of applicability of the most frequently used programming and software tools in the field of data science. Thank you for watching!'],\n",
       " 'uris': None,\n",
       " 'included': ['metadatas', 'documents'],\n",
       " 'data': None,\n",
       " 'metadatas': [{'Lecture Title': 'Analysis vs Analytics',\n",
       "   'Course Title': 'Introduction to Data and Data Science'},\n",
       "  {'Course Title': 'Introduction to Data and Data Science',\n",
       "   'Lecture Title': 'Analysis vs Analytics'},\n",
       "  {'Course Title': 'Introduction to Data and Data Science',\n",
       "   'Lecture Title': 'Analysis vs Analytics'},\n",
       "  {'Course Title': 'Introduction to Data and Data Science',\n",
       "   'Lecture Title': 'Analysis vs Analytics'},\n",
       "  {'Course Title': 'Introduction to Data and Data Science',\n",
       "   'Lecture Title': 'Analysis vs Analytics'},\n",
       "  {'Course Title': 'Introduction to Data and Data Science',\n",
       "   'Lecture Title': 'Analysis vs Analytics'},\n",
       "  {'Lecture Title': 'Analysis vs Analytics',\n",
       "   'Course Title': 'Introduction to Data and Data Science'},\n",
       "  {'Lecture Title': 'Analysis vs Analytics',\n",
       "   'Course Title': 'Introduction to Data and Data Science'},\n",
       "  {'Lecture Title': 'Programming Languages & Software Employed in Data Science - All the Tools You Need',\n",
       "   'Course Title': 'Introduction to Data and Data Science'},\n",
       "  {'Course Title': 'Introduction to Data and Data Science',\n",
       "   'Lecture Title': 'Programming Languages & Software Employed in Data Science - All the Tools You Need'},\n",
       "  {'Course Title': 'Introduction to Data and Data Science',\n",
       "   'Lecture Title': 'Programming Languages & Software Employed in Data Science - All the Tools You Need'},\n",
       "  {'Course Title': 'Introduction to Data and Data Science',\n",
       "   'Lecture Title': 'Programming Languages & Software Employed in Data Science - All the Tools You Need'},\n",
       "  {'Course Title': 'Introduction to Data and Data Science',\n",
       "   'Lecture Title': 'Programming Languages & Software Employed in Data Science - All the Tools You Need'},\n",
       "  {'Lecture Title': 'Programming Languages & Software Employed in Data Science - All the Tools You Need',\n",
       "   'Course Title': 'Introduction to Data and Data Science'},\n",
       "  {'Lecture Title': 'Programming Languages & Software Employed in Data Science - All the Tools You Need',\n",
       "   'Course Title': 'Introduction to Data and Data Science'},\n",
       "  {'Course Title': 'Introduction to Data and Data Science',\n",
       "   'Lecture Title': 'Programming Languages & Software Employed in Data Science - All the Tools You Need'},\n",
       "  {'Lecture Title': 'Programming Languages & Software Employed in Data Science - All the Tools You Need',\n",
       "   'Course Title': 'Introduction to Data and Data Science'},\n",
       "  {'Lecture Title': 'Programming Languages & Software Employed in Data Science - All the Tools You Need',\n",
       "   'Course Title': 'Introduction to Data and Data Science'},\n",
       "  {'Course Title': 'Introduction to Data and Data Science',\n",
       "   'Lecture Title': 'Programming Languages & Software Employed in Data Science - All the Tools You Need'},\n",
       "  {'Lecture Title': 'Programming Languages & Software Employed in Data Science - All the Tools You Need',\n",
       "   'Course Title': 'Introduction to Data and Data Science'}]}"
      ]
     },
     "execution_count": 10,
     "metadata": {},
     "output_type": "execute_result"
    }
   ],
   "source": [
    "vectorstore_from_directory.get()"
   ]
  },
  {
   "cell_type": "code",
   "execution_count": 11,
   "id": "d62de870",
   "metadata": {},
   "outputs": [
    {
     "data": {
      "text/plain": [
       "{'ids': ['9564def8-2eb5-41dc-a72b-ea6f218ccd7f'],\n",
       " 'embeddings': array([[ 0.00478017, -0.01535145,  0.02508651, ...,  0.02121745,\n",
       "         -0.01364157, -0.00687695]], shape=(1, 1536)),\n",
       " 'documents': None,\n",
       " 'uris': None,\n",
       " 'included': ['embeddings'],\n",
       " 'data': None,\n",
       " 'metadatas': None}"
      ]
     },
     "execution_count": 11,
     "metadata": {},
     "output_type": "execute_result"
    }
   ],
   "source": [
    "vectorstore_from_directory.get(ids = \"9564def8-2eb5-41dc-a72b-ea6f218ccd7f\", include=[\"embeddings\"])"
   ]
  },
  {
   "cell_type": "code",
   "execution_count": 12,
   "id": "a5208e7e",
   "metadata": {},
   "outputs": [],
   "source": [
    "added_document = Document(page_content = \"Alright! So… Let’s discuss the not-so-obvious differences between the terms analysis and analytics. Due to the similarity of the words, some people believe they share the same meaning, and thus use them interchangeably. Technically, this isn’t correct. There is, in fact, a distinct difference between the two. And the reason for one often being used instead of the other is the lack of a transparent understanding of both. So, let’s clear this up, shall we? First, we will start with analysis\",\n",
    "                          metadata = {\"Course Title\": \"Introduction to Data and Data Science\",\n",
    "                                      \"Lecture Title\": \"Analysis vs Analytics\"})"
   ]
  },
  {
   "cell_type": "code",
   "execution_count": 14,
   "id": "dca55897",
   "metadata": {},
   "outputs": [
    {
     "data": {
      "text/plain": [
       "['6023ce4c-7727-487c-ac83-4dd434553844']"
      ]
     },
     "execution_count": 14,
     "metadata": {},
     "output_type": "execute_result"
    }
   ],
   "source": [
    "vectorstore_from_directory.add_documents([added_document])"
   ]
  },
  {
   "cell_type": "code",
   "execution_count": 15,
   "id": "88b43e1b",
   "metadata": {},
   "outputs": [
    {
     "data": {
      "text/plain": [
       "{'ids': ['6023ce4c-7727-487c-ac83-4dd434553844'],\n",
       " 'embeddings': None,\n",
       " 'documents': ['Alright! So… Let’s discuss the not-so-obvious differences between the terms analysis and analytics. Due to the similarity of the words, some people believe they share the same meaning, and thus use them interchangeably. Technically, this isn’t correct. There is, in fact, a distinct difference between the two. And the reason for one often being used instead of the other is the lack of a transparent understanding of both. So, let’s clear this up, shall we? First, we will start with analysis'],\n",
       " 'uris': None,\n",
       " 'included': ['metadatas', 'documents'],\n",
       " 'data': None,\n",
       " 'metadatas': [{'Lecture Title': 'Analysis vs Analytics',\n",
       "   'Course Title': 'Introduction to Data and Data Science'}]}"
      ]
     },
     "execution_count": 15,
     "metadata": {},
     "output_type": "execute_result"
    }
   ],
   "source": [
    "vectorstore_from_directory.get(\"6023ce4c-7727-487c-ac83-4dd434553844\")"
   ]
  },
  {
   "cell_type": "code",
   "execution_count": 16,
   "id": "06b72ab9",
   "metadata": {},
   "outputs": [],
   "source": [
    "updated_document = Document(page_content= \"More importantly, it will be sufficient for your need to create quick and accurate analyses. However, if your theoretical preparation is strong enough, you will find yourself restricted by software. Knowing a programming language such as R and Python, gives you the freedom to create specific, ad-hoc tools for each project you are working on\",\n",
    "                            metadata = {\"Course Title\": \"Introduction to Data and Data Science\",\n",
    "                                        \"Lecture Title\": \"Programming Languages & Software Employed in Data Science - All the Tools You Need\"})"
   ]
  },
  {
   "cell_type": "code",
   "execution_count": 17,
   "id": "981873f6",
   "metadata": {},
   "outputs": [],
   "source": [
    "vectorstore_from_directory.update_document(document_id = \"6023ce4c-7727-487c-ac83-4dd434553844\",\n",
    "                                           document = updated_document)"
   ]
  },
  {
   "cell_type": "code",
   "execution_count": 18,
   "id": "4f44028c",
   "metadata": {},
   "outputs": [
    {
     "data": {
      "text/plain": [
       "{'ids': ['6023ce4c-7727-487c-ac83-4dd434553844'],\n",
       " 'embeddings': None,\n",
       " 'documents': ['More importantly, it will be sufficient for your need to create quick and accurate analyses. However, if your theoretical preparation is strong enough, you will find yourself restricted by software. Knowing a programming language such as R and Python, gives you the freedom to create specific, ad-hoc tools for each project you are working on'],\n",
       " 'uris': None,\n",
       " 'included': ['metadatas', 'documents'],\n",
       " 'data': None,\n",
       " 'metadatas': [{'Course Title': 'Introduction to Data and Data Science',\n",
       "   'Lecture Title': 'Programming Languages & Software Employed in Data Science - All the Tools You Need'}]}"
      ]
     },
     "execution_count": 18,
     "metadata": {},
     "output_type": "execute_result"
    }
   ],
   "source": [
    "vectorstore_from_directory.get(\"6023ce4c-7727-487c-ac83-4dd434553844\")"
   ]
  },
  {
   "cell_type": "code",
   "execution_count": 19,
   "id": "a9577e8d",
   "metadata": {},
   "outputs": [],
   "source": [
    "vectorstore_from_directory.delete(\"6023ce4c-7727-487c-ac83-4dd434553844\")"
   ]
  },
  {
   "cell_type": "code",
   "execution_count": 20,
   "id": "e7a97634",
   "metadata": {},
   "outputs": [
    {
     "data": {
      "text/plain": [
       "{'ids': [],\n",
       " 'embeddings': None,\n",
       " 'documents': [],\n",
       " 'uris': None,\n",
       " 'included': ['metadatas', 'documents'],\n",
       " 'data': None,\n",
       " 'metadatas': []}"
      ]
     },
     "execution_count": 20,
     "metadata": {},
     "output_type": "execute_result"
    }
   ],
   "source": [
    "vectorstore_from_directory.get(\"6023ce4c-7727-487c-ac83-4dd434553844\")"
   ]
  },
  {
   "cell_type": "code",
   "execution_count": null,
   "id": "b3982d26",
   "metadata": {},
   "outputs": [],
   "source": []
  }
 ],
 "metadata": {
  "kernelspec": {
   "display_name": "Langchain_env",
   "language": "python",
   "name": "langchain_env"
  },
  "language_info": {
   "codemirror_mode": {
    "name": "ipython",
    "version": 3
   },
   "file_extension": ".py",
   "mimetype": "text/x-python",
   "name": "python",
   "nbconvert_exporter": "python",
   "pygments_lexer": "ipython3",
   "version": "3.12.3"
  }
 },
 "nbformat": 4,
 "nbformat_minor": 5
}
