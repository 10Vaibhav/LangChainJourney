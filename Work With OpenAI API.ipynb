{
 "cells": [
  {
   "cell_type": "code",
   "execution_count": 1,
   "id": "537315ae",
   "metadata": {},
   "outputs": [],
   "source": [
    "%load_ext dotenv\n",
    "%dotenv"
   ]
  },
  {
   "cell_type": "code",
   "execution_count": 2,
   "id": "228349fa",
   "metadata": {},
   "outputs": [],
   "source": [
    "import os\n",
    "import openai"
   ]
  },
  {
   "cell_type": "code",
   "execution_count": 3,
   "id": "49d76b87",
   "metadata": {},
   "outputs": [],
   "source": [
    "openai.api_key = os.getenv(\"OPENAI_API_KEY\")"
   ]
  },
  {
   "cell_type": "code",
   "execution_count": 4,
   "id": "dd5996b3",
   "metadata": {},
   "outputs": [],
   "source": [
    "client = openai.OpenAI()"
   ]
  },
  {
   "cell_type": "code",
   "execution_count": 5,
   "id": "d03c7d97",
   "metadata": {},
   "outputs": [],
   "source": [
    "completion = client.chat.completions.create(model = \"gpt-4\",\n",
    "                                            messages = [{\"role\": \"user\",\n",
    "                                                         \"content\": '''Could you explain briefly what a black hole is?'''}],\n",
    "                                            max_tokens = 250,\n",
    "                                            temperature = 0,\n",
    "                                            seed = 365,\n",
    "                                            stream = True)"
   ]
  },
  {
   "cell_type": "code",
   "execution_count": 6,
   "id": "99bea2bd",
   "metadata": {},
   "outputs": [
    {
     "data": {
      "text/plain": [
       "<openai.Stream at 0x22e075c37d0>"
      ]
     },
     "execution_count": 6,
     "metadata": {},
     "output_type": "execute_result"
    }
   ],
   "source": [
    "completion"
   ]
  },
  {
   "cell_type": "code",
   "execution_count": 7,
   "id": "113331d1",
   "metadata": {},
   "outputs": [
    {
     "name": "stdout",
     "output_type": "stream",
     "text": [
      "A black hole is a region in space where the gravitational pull is so strong that nothing, not even light, can escape from it. This intense gravity is a result of a large amount of matter being compressed into a very small space. Black holes are usually formed from the remnants of a large star that dies in a supernova explosion. Despite being invisible (due to no light escaping), black holes can be detected through their effects on nearby matter and light.None"
     ]
    }
   ],
   "source": [
    "for i in completion:\n",
    "    print(i.choices[0].delta.content, end =\"\")"
   ]
  },
  {
   "cell_type": "code",
   "execution_count": null,
   "id": "a3f433b5",
   "metadata": {},
   "outputs": [],
   "source": []
  },
  {
   "cell_type": "code",
   "execution_count": null,
   "id": "fe1fa18e",
   "metadata": {},
   "outputs": [],
   "source": []
  }
 ],
 "metadata": {
  "kernelspec": {
   "display_name": "Langchain_env",
   "language": "python",
   "name": "langchain_env"
  },
  "language_info": {
   "codemirror_mode": {
    "name": "ipython",
    "version": 3
   },
   "file_extension": ".py",
   "mimetype": "text/x-python",
   "name": "python",
   "nbconvert_exporter": "python",
   "pygments_lexer": "ipython3",
   "version": "3.12.3"
  }
 },
 "nbformat": 4,
 "nbformat_minor": 5
}
