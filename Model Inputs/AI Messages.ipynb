{
 "cells": [
  {
   "cell_type": "code",
   "execution_count": 1,
   "id": "5faf3108",
   "metadata": {},
   "outputs": [],
   "source": [
    "%load_ext dotenv\n",
    "%dotenv"
   ]
  },
  {
   "cell_type": "code",
   "execution_count": 3,
   "id": "34d7f2b2",
   "metadata": {},
   "outputs": [],
   "source": [
    "from langchain_openai.chat_models import ChatOpenAI\n",
    "from langchain_core.messages import HumanMessage, AIMessage"
   ]
  },
  {
   "cell_type": "code",
   "execution_count": 5,
   "id": "71e42167",
   "metadata": {},
   "outputs": [
    {
     "name": "stderr",
     "output_type": "stream",
     "text": [
      "C:\\Users\\Asus\\.conda\\envs\\Langchain_env\\Lib\\site-packages\\IPython\\core\\interactiveshell.py:3639: UserWarning: Parameters {'seed'} should be specified explicitly. Instead they were passed in as part of `model_kwargs` parameter.\n",
      "  if await self.run_code(code, result, async_=asy):\n"
     ]
    }
   ],
   "source": [
    "chat = ChatOpenAI(model_name = \"gpt-4\",\n",
    "                   model_kwargs = {\"seed\": 365},\n",
    "                   temperature = 0,\n",
    "                   max_tokens = 100)"
   ]
  },
  {
   "cell_type": "code",
   "execution_count": 14,
   "id": "67e5c9f0",
   "metadata": {},
   "outputs": [],
   "source": [
    "message_h_dog = HumanMessage(content = '''I've recently adopted a dog. Can you suggest some dog names?''')\n",
    "message_ai_dog = AIMessage(content = '''Oh, absolutely. Because I'm sure your dog is just waiting to be named by a chatbot. How about \"Bark Twain\" or \"Sir Wag-a-lot\"? Maybe \"Biscuit Overlord\" or \"Fur-dinand\"? \n",
    "Or if you're into pop culture, \"Bark Vader\" or \"Wooferine\"? I'm sure your dog will be thrilled with any of these.''')\n",
    "\n",
    "message_h_cat = HumanMessage(content = '''I've recently adopted a cat. Can you suggest some cat names? ''')\n",
    "message_ai_cat = AIMessage(content = '''Oh, absolutely. Because nothing screams I'm a unique and creative individual like asking\n",
    "a chatbot to name your cat. How about \"Furry McFurFace\", \"Sir Meowsalot\", or \"Catastrophe\"?...''')\n",
    "\n",
    "message_h_fish = HumanMessage(content = '''I've recently adopted a fish. can you suggest some fish names?''')"
   ]
  },
  {
   "cell_type": "code",
   "execution_count": 15,
   "id": "1147e458",
   "metadata": {},
   "outputs": [],
   "source": [
    "response = chat.invoke([message_h_dog, message_ai_dog, message_h_cat, message_ai_cat, message_h_fish])"
   ]
  },
  {
   "cell_type": "code",
   "execution_count": 16,
   "id": "74b0bf2e",
   "metadata": {},
   "outputs": [
    {
     "name": "stdout",
     "output_type": "stream",
     "text": [
      "Of course! How about \"Finley\", \"Bubbles\", \"Sushi\", \"Nemo\", or \"Aqua\"? Or if you're into puns, \"Gillbert\" or \"Fin Diesel\" could be fun options.\n"
     ]
    }
   ],
   "source": [
    "print(response.content)"
   ]
  },
  {
   "cell_type": "code",
   "execution_count": null,
   "id": "ede18e71",
   "metadata": {},
   "outputs": [],
   "source": []
  }
 ],
 "metadata": {
  "kernelspec": {
   "display_name": "Langchain_env",
   "language": "python",
   "name": "langchain_env"
  },
  "language_info": {
   "codemirror_mode": {
    "name": "ipython",
    "version": 3
   },
   "file_extension": ".py",
   "mimetype": "text/x-python",
   "name": "python",
   "nbconvert_exporter": "python",
   "pygments_lexer": "ipython3",
   "version": "3.12.3"
  }
 },
 "nbformat": 4,
 "nbformat_minor": 5
}
