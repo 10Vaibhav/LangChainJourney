{
 "cells": [
  {
   "cell_type": "markdown",
   "id": "64034935",
   "metadata": {},
   "source": [
    "# Few-Shot Chat Message Prompt Templates"
   ]
  },
  {
   "cell_type": "code",
   "execution_count": 1,
   "id": "acae740f",
   "metadata": {},
   "outputs": [],
   "source": [
    "%load_ext dotenv\n",
    "%dotenv"
   ]
  },
  {
   "cell_type": "code",
   "execution_count": 11,
   "id": "5fb9bbae",
   "metadata": {},
   "outputs": [],
   "source": [
    "from langchain_openai.chat_models import ChatOpenAI\n",
    "from langchain_core.prompts import (ChatPromptTemplate, HumanMessagePromptTemplate, AIMessagePromptTemplate, FewShotChatMessagePromptTemplate)"
   ]
  },
  {
   "cell_type": "code",
   "execution_count": 12,
   "id": "7d7d25d5",
   "metadata": {},
   "outputs": [
    {
     "name": "stderr",
     "output_type": "stream",
     "text": [
      "C:\\Users\\Asus\\.conda\\envs\\Langchain_env\\Lib\\site-packages\\IPython\\core\\interactiveshell.py:3639: UserWarning: Parameters {'seed'} should be specified explicitly. Instead they were passed in as part of `model_kwargs` parameter.\n",
      "  if await self.run_code(code, result, async_=asy):\n"
     ]
    }
   ],
   "source": [
    "chat = ChatOpenAI(model_name = \"gpt-4\",\n",
    "                  model_kwargs = {\"seed\": 365},\n",
    "                  temperature = 0,\n",
    "                  max_tokens = 100)"
   ]
  },
  {
   "cell_type": "code",
   "execution_count": 13,
   "id": "d19182fb",
   "metadata": {},
   "outputs": [],
   "source": [
    "TEMPLATE_H = '''I've recently adopted a {pet}.\n",
    "Could you suggest some {pet} names?'''\n",
    "TEMPLATE_AI = '''{response}'''\n",
    "\n",
    "message_template_h = HumanMessagePromptTemplate.from_template(template = TEMPLATE_H)\n",
    "message_template_ai = AIMessagePromptTemplate.from_template(template = TEMPLATE_AI)\n"
   ]
  },
  {
   "cell_type": "code",
   "execution_count": 14,
   "id": "71c2af76",
   "metadata": {},
   "outputs": [],
   "source": [
    "example_template = ChatPromptTemplate.from_messages([message_template_h, message_template_ai])"
   ]
  },
  {
   "cell_type": "code",
   "execution_count": 16,
   "id": "e7dc4af2",
   "metadata": {},
   "outputs": [],
   "source": [
    "examples = [{\"pet\": \"dog\",\n",
    "             \"response\": '''Oh, adsolutely. Because nothings screams \"I'm a responsible pet owner\"\n",
    "             like asking a chatbot to name your new furball. How about \"Brak Twain\" (if it's a literary hound)?'''},\n",
    "            \n",
    "            {\n",
    "                \"pet\": \"cat\",\n",
    "                \"response\": '''Oh, absolutely. Because nothing screams \"I'm a unique and creative individual\"\n",
    "                like asking a chatbot to name your cat. How about \"Furry McFurFace\", \"Sir Meowsalot\", or \"Catastrophe\"?'''\n",
    "            }]"
   ]
  },
  {
   "cell_type": "code",
   "execution_count": 17,
   "id": "0e00269f",
   "metadata": {},
   "outputs": [],
   "source": [
    "few_shot_prompt = FewShotChatMessagePromptTemplate(examples = examples, example_prompt = example_template)"
   ]
  },
  {
   "cell_type": "code",
   "execution_count": 18,
   "id": "1379dfaa",
   "metadata": {},
   "outputs": [],
   "source": [
    "chat_template = ChatPromptTemplate.from_messages([few_shot_prompt, message_template_h])     "
   ]
  },
  {
   "cell_type": "code",
   "execution_count": 19,
   "id": "fd14334b",
   "metadata": {},
   "outputs": [],
   "source": [
    "chat_value = chat_template.invoke({\"pet\":\"rabbit\"})"
   ]
  },
  {
   "cell_type": "code",
   "execution_count": 20,
   "id": "58542b66",
   "metadata": {},
   "outputs": [
    {
     "data": {
      "text/plain": [
       "ChatPromptValue(messages=[HumanMessage(content=\"I've recently adopted a dog.\\nCould you suggest some dog names?\", additional_kwargs={}, response_metadata={}), AIMessage(content='Oh, adsolutely. Because nothings screams \"I\\'m a responsible pet owner\"\\n             like asking a chatbot to name your new furball. How about \"Brak Twain\" (if it\\'s a literary hound)?', additional_kwargs={}, response_metadata={}), HumanMessage(content=\"I've recently adopted a cat.\\nCould you suggest some cat names?\", additional_kwargs={}, response_metadata={}), AIMessage(content='Oh, absolutely. Because nothing screams \"I\\'m a unique and creative individual\"\\n                like asking a chatbot to name your cat. How about \"Furry McFurFace\", \"Sir Meowsalot\", or \"Catastrophe\"?', additional_kwargs={}, response_metadata={}), HumanMessage(content=\"I've recently adopted a rabbit.\\nCould you suggest some rabbit names?\", additional_kwargs={}, response_metadata={})])"
      ]
     },
     "execution_count": 20,
     "metadata": {},
     "output_type": "execute_result"
    }
   ],
   "source": [
    "chat_value"
   ]
  },
  {
   "cell_type": "code",
   "execution_count": 21,
   "id": "bd1cab4f",
   "metadata": {},
   "outputs": [
    {
     "name": "stdout",
     "output_type": "stream",
     "text": [
      "human: I've recently adopted a dog.\n",
      "Could you suggest some dog names?\n",
      "\n",
      "ai: Oh, adsolutely. Because nothings screams \"I'm a responsible pet owner\"\n",
      "             like asking a chatbot to name your new furball. How about \"Brak Twain\" (if it's a literary hound)?\n",
      "\n",
      "human: I've recently adopted a cat.\n",
      "Could you suggest some cat names?\n",
      "\n",
      "ai: Oh, absolutely. Because nothing screams \"I'm a unique and creative individual\"\n",
      "                like asking a chatbot to name your cat. How about \"Furry McFurFace\", \"Sir Meowsalot\", or \"Catastrophe\"?\n",
      "\n",
      "human: I've recently adopted a rabbit.\n",
      "Could you suggest some rabbit names?\n",
      "\n"
     ]
    }
   ],
   "source": [
    "for i in chat_value.messages:\n",
    "    print(f\"{i.type}: {i.content}\\n\")"
   ]
  },
  {
   "cell_type": "code",
   "execution_count": 22,
   "id": "049aea7b",
   "metadata": {},
   "outputs": [],
   "source": [
    "response = chat.invoke(chat_value)"
   ]
  },
  {
   "cell_type": "code",
   "execution_count": 23,
   "id": "73594fe3",
   "metadata": {},
   "outputs": [
    {
     "data": {
      "text/plain": [
       "AIMessage(content='Of course! How about \"Thumper\", \"Bun Bun\", \"Cotton\", \"Nibbles\", \"Snowball\", \"Carrot\", \"Cinnabun\", \"Hopper\", \"Biscuit\", or \"Fluffy\"?', additional_kwargs={'refusal': None}, response_metadata={'token_usage': {'completion_tokens': 50, 'prompt_tokens': 163, 'total_tokens': 213, 'completion_tokens_details': {'accepted_prediction_tokens': 0, 'audio_tokens': 0, 'reasoning_tokens': 0, 'rejected_prediction_tokens': 0}, 'prompt_tokens_details': {'audio_tokens': 0, 'cached_tokens': 0}}, 'model_name': 'gpt-4-0613', 'system_fingerprint': None, 'id': 'chatcmpl-C68vB6PRYi8fBdSQC8ZjV0u3lPdrA', 'service_tier': 'default', 'finish_reason': 'stop', 'logprobs': None}, id='run--d8ce0f6e-f328-4ba8-b85c-25d8e2df7cb4-0', usage_metadata={'input_tokens': 163, 'output_tokens': 50, 'total_tokens': 213, 'input_token_details': {'audio': 0, 'cache_read': 0}, 'output_token_details': {'audio': 0, 'reasoning': 0}})"
      ]
     },
     "execution_count": 23,
     "metadata": {},
     "output_type": "execute_result"
    }
   ],
   "source": [
    "response"
   ]
  },
  {
   "cell_type": "code",
   "execution_count": 24,
   "id": "7d8b9add",
   "metadata": {},
   "outputs": [
    {
     "name": "stdout",
     "output_type": "stream",
     "text": [
      "Of course! How about \"Thumper\", \"Bun Bun\", \"Cotton\", \"Nibbles\", \"Snowball\", \"Carrot\", \"Cinnabun\", \"Hopper\", \"Biscuit\", or \"Fluffy\"?\n"
     ]
    }
   ],
   "source": [
    "print(response.content)"
   ]
  },
  {
   "cell_type": "code",
   "execution_count": null,
   "id": "e2b1d87c",
   "metadata": {},
   "outputs": [],
   "source": []
  }
 ],
 "metadata": {
  "kernelspec": {
   "display_name": "Langchain_env",
   "language": "python",
   "name": "langchain_env"
  },
  "language_info": {
   "codemirror_mode": {
    "name": "ipython",
    "version": 3
   },
   "file_extension": ".py",
   "mimetype": "text/x-python",
   "name": "python",
   "nbconvert_exporter": "python",
   "pygments_lexer": "ipython3",
   "version": "3.12.3"
  }
 },
 "nbformat": 4,
 "nbformat_minor": 5
}
