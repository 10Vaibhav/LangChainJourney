{
 "cells": [
  {
   "cell_type": "code",
   "execution_count": 1,
   "id": "5059f12b",
   "metadata": {},
   "outputs": [],
   "source": [
    "%load_ext dotenv\n",
    "%dotenv"
   ]
  },
  {
   "cell_type": "code",
   "execution_count": 2,
   "id": "d7fb029e",
   "metadata": {},
   "outputs": [],
   "source": [
    "from langchain_openai.chat_models import ChatOpenAI"
   ]
  },
  {
   "cell_type": "code",
   "execution_count": 8,
   "id": "632b72db",
   "metadata": {},
   "outputs": [
    {
     "name": "stderr",
     "output_type": "stream",
     "text": [
      "C:\\Users\\Asus\\.conda\\envs\\Langchain_env\\Lib\\site-packages\\IPython\\core\\interactiveshell.py:3639: UserWarning: Parameters {'seed'} should be specified explicitly. Instead they were passed in as part of `model_kwargs` parameter.\n",
      "  if await self.run_code(code, result, async_=asy):\n"
     ]
    }
   ],
   "source": [
    "chat = ChatOpenAI(model_name = \"gpt-4\", model_kwargs = {'seed': 365}, temperature = 0, max_tokens = 100)"
   ]
  },
  {
   "cell_type": "code",
   "execution_count": 9,
   "id": "b86b82a0",
   "metadata": {},
   "outputs": [],
   "source": [
    "response = chat.invoke('''I've recently adopted a dog. Could you suggest some dog names? ''')"
   ]
  },
  {
   "cell_type": "code",
   "execution_count": 10,
   "id": "1d859b8c",
   "metadata": {},
   "outputs": [
    {
     "name": "stdout",
     "output_type": "stream",
     "text": [
      "Of course! Here are some suggestions:\n",
      "\n",
      "Male Dog Names:\n",
      "1. Max\n",
      "2. Charlie\n",
      "3. Cooper\n",
      "4. Buddy\n",
      "5. Jack\n",
      "6. Rocky\n",
      "7. Duke\n",
      "8. Bear\n",
      "9. Zeus\n",
      "10. Toby\n",
      "\n",
      "Female Dog Names:\n",
      "1. Bella\n",
      "2. Lucy\n",
      "3. Daisy\n",
      "4. Luna\n",
      "5. Lola\n",
      "6. Sadie\n",
      "7. Molly\n",
      "8. Bailey\n",
      "9. Stella\n",
      "10. Maggie\n",
      "\n",
      "Unisex Dog\n"
     ]
    }
   ],
   "source": [
    "print(response.content)"
   ]
  },
  {
   "cell_type": "code",
   "execution_count": null,
   "id": "ba594aa0",
   "metadata": {},
   "outputs": [],
   "source": []
  }
 ],
 "metadata": {
  "kernelspec": {
   "display_name": "Langchain_env",
   "language": "python",
   "name": "langchain_env"
  },
  "language_info": {
   "codemirror_mode": {
    "name": "ipython",
    "version": 3
   },
   "file_extension": ".py",
   "mimetype": "text/x-python",
   "name": "python",
   "nbconvert_exporter": "python",
   "pygments_lexer": "ipython3",
   "version": "3.12.3"
  }
 },
 "nbformat": 4,
 "nbformat_minor": 5
}
