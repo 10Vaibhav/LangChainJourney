{
 "cells": [
  {
   "cell_type": "code",
   "execution_count": 1,
   "id": "0bea7e45",
   "metadata": {},
   "outputs": [],
   "source": [
    "%load_ext dotenv\n",
    "%dotenv"
   ]
  },
  {
   "cell_type": "code",
   "execution_count": 3,
   "id": "cffc4c3e",
   "metadata": {},
   "outputs": [],
   "source": [
    "from langchain_openai.chat_models import ChatOpenAI\n",
    "from langchain_core.messages import HumanMessage\n",
    "from langchain_core.output_parsers import CommaSeparatedListOutputParser"
   ]
  },
  {
   "cell_type": "code",
   "execution_count": 4,
   "id": "12730515",
   "metadata": {},
   "outputs": [
    {
     "name": "stderr",
     "output_type": "stream",
     "text": [
      "C:\\Users\\Asus\\.conda\\envs\\Langchain_env\\Lib\\site-packages\\IPython\\core\\interactiveshell.py:3639: UserWarning: Parameters {'seed'} should be specified explicitly. Instead they were passed in as part of `model_kwargs` parameter.\n",
      "  if await self.run_code(code, result, async_=asy):\n"
     ]
    }
   ],
   "source": [
    "chat = ChatOpenAI(model_name = \"gpt-4\",\n",
    "                  model_kwargs = {\"seed\":365},\n",
    "                  temperature = 0,\n",
    "                  max_tokens = 100)"
   ]
  },
  {
   "cell_type": "code",
   "execution_count": 11,
   "id": "8d4c6aa0",
   "metadata": {},
   "outputs": [],
   "source": [
    "message_h = HumanMessage(content = f'''I've recently adopted a dog. Could you suggest some dog names?\n",
    "{CommaSeparatedListOutputParser().get_format_instructions()}\n",
    "''')"
   ]
  },
  {
   "cell_type": "code",
   "execution_count": 12,
   "id": "f62a9241",
   "metadata": {},
   "outputs": [
    {
     "name": "stdout",
     "output_type": "stream",
     "text": [
      "I've recently adopted a dog. Could you suggest some dog names?\n",
      "Your response should be a list of comma separated values, eg: `foo, bar, baz` or `foo,bar,baz`\n",
      "\n"
     ]
    }
   ],
   "source": [
    "print(message_h.content)"
   ]
  },
  {
   "cell_type": "code",
   "execution_count": 13,
   "id": "b7f7faa5",
   "metadata": {},
   "outputs": [
    {
     "name": "stdout",
     "output_type": "stream",
     "text": [
      "Max, Bella, Charlie, Daisy, Buddy, Luna, Rocky, Sadie, Zeus, Molly, Bailey, Coco, Lucy, Duke, Lola, Toby, Stella, Jack, Roxy, Cooper, Ruby, Buster, Rosie, Bear, Riley, Milo, Harley, Daisy, Bruno, Pepper, Oliver, Ginger, Shadow, Lucky, Bella, Simba, Rex, Lady, Sammy, Coco, Daisy, Bella, Luna, Max, Molly, Charlie, Rocky, Buddy, Daisy\n"
     ]
    }
   ],
   "source": [
    "response = chat.invoke([message_h])\n",
    "print(response.content)"
   ]
  },
  {
   "cell_type": "code",
   "execution_count": 14,
   "id": "5246b80f",
   "metadata": {},
   "outputs": [],
   "source": [
    "list_output_parser = CommaSeparatedListOutputParser()"
   ]
  },
  {
   "cell_type": "code",
   "execution_count": 15,
   "id": "5aebdd21",
   "metadata": {},
   "outputs": [],
   "source": [
    "response_parsed = list_output_parser.invoke(response)"
   ]
  },
  {
   "cell_type": "code",
   "execution_count": 16,
   "id": "018bdfdc",
   "metadata": {},
   "outputs": [
    {
     "data": {
      "text/plain": [
       "['Max',\n",
       " 'Bella',\n",
       " 'Charlie',\n",
       " 'Daisy',\n",
       " 'Buddy',\n",
       " 'Luna',\n",
       " 'Rocky',\n",
       " 'Sadie',\n",
       " 'Zeus',\n",
       " 'Molly',\n",
       " 'Bailey',\n",
       " 'Coco',\n",
       " 'Lucy',\n",
       " 'Duke',\n",
       " 'Lola',\n",
       " 'Toby',\n",
       " 'Stella',\n",
       " 'Jack',\n",
       " 'Roxy',\n",
       " 'Cooper',\n",
       " 'Ruby',\n",
       " 'Buster',\n",
       " 'Rosie',\n",
       " 'Bear',\n",
       " 'Riley',\n",
       " 'Milo',\n",
       " 'Harley',\n",
       " 'Daisy',\n",
       " 'Bruno',\n",
       " 'Pepper',\n",
       " 'Oliver',\n",
       " 'Ginger',\n",
       " 'Shadow',\n",
       " 'Lucky',\n",
       " 'Bella',\n",
       " 'Simba',\n",
       " 'Rex',\n",
       " 'Lady',\n",
       " 'Sammy',\n",
       " 'Coco',\n",
       " 'Daisy',\n",
       " 'Bella',\n",
       " 'Luna',\n",
       " 'Max',\n",
       " 'Molly',\n",
       " 'Charlie',\n",
       " 'Rocky',\n",
       " 'Buddy',\n",
       " 'Daisy']"
      ]
     },
     "execution_count": 16,
     "metadata": {},
     "output_type": "execute_result"
    }
   ],
   "source": [
    "response_parsed"
   ]
  },
  {
   "cell_type": "code",
   "execution_count": 10,
   "id": "1d6ccd40",
   "metadata": {},
   "outputs": [
    {
     "name": "stdout",
     "output_type": "stream",
     "text": [
      "Your response should be a list of comma separated values, eg: `foo, bar, baz` or `foo,bar,baz`\n"
     ]
    }
   ],
   "source": [
    "print(list_output_parser.get_format_instructions())"
   ]
  },
  {
   "cell_type": "code",
   "execution_count": null,
   "id": "db7ff45a",
   "metadata": {},
   "outputs": [],
   "source": []
  },
  {
   "cell_type": "code",
   "execution_count": null,
   "id": "6c171c8c",
   "metadata": {},
   "outputs": [],
   "source": []
  }
 ],
 "metadata": {
  "kernelspec": {
   "display_name": "Langchain_env",
   "language": "python",
   "name": "langchain_env"
  },
  "language_info": {
   "codemirror_mode": {
    "name": "ipython",
    "version": 3
   },
   "file_extension": ".py",
   "mimetype": "text/x-python",
   "name": "python",
   "nbconvert_exporter": "python",
   "pygments_lexer": "ipython3",
   "version": "3.12.3"
  }
 },
 "nbformat": 4,
 "nbformat_minor": 5
}
