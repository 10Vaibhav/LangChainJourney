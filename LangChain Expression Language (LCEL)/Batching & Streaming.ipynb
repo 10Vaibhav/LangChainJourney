{
 "cells": [
  {
   "cell_type": "markdown",
   "id": "e7448a32",
   "metadata": {},
   "source": [
    "# Batching"
   ]
  },
  {
   "cell_type": "code",
   "execution_count": 1,
   "id": "50c8c739",
   "metadata": {},
   "outputs": [],
   "source": [
    "%load_ext dotenv\n",
    "%dotenv"
   ]
  },
  {
   "cell_type": "code",
   "execution_count": 2,
   "id": "35c4223d",
   "metadata": {},
   "outputs": [],
   "source": [
    "from langchain_core.prompts import ChatPromptTemplate\n",
    "from langchain_openai import ChatOpenAI"
   ]
  },
  {
   "cell_type": "code",
   "execution_count": 3,
   "id": "b07a873e",
   "metadata": {},
   "outputs": [],
   "source": [
    "chat_template = ChatPromptTemplate.from_messages([('human',\n",
    "                                                  \"I've recently adopted a {pet} which is a {breed}. could you suggest several training tips?\")])"
   ]
  },
  {
   "cell_type": "code",
   "execution_count": 24,
   "id": "b64e889e",
   "metadata": {},
   "outputs": [
    {
     "name": "stderr",
     "output_type": "stream",
     "text": [
      "C:\\Users\\Asus\\.conda\\envs\\Langchain_env\\Lib\\site-packages\\IPython\\core\\interactiveshell.py:3639: UserWarning: Parameters {'seed'} should be specified explicitly. Instead they were passed in as part of `model_kwargs` parameter.\n",
      "  if await self.run_code(code, result, async_=asy):\n"
     ]
    }
   ],
   "source": [
    "chat = ChatOpenAI(model_name = \"gpt-4\",\n",
    "                  model_kwargs = {\"seed\": 365},\n",
    "                  temperature = 0,\n",
    "                  max_tokens = 100)"
   ]
  },
  {
   "cell_type": "code",
   "execution_count": 25,
   "id": "b9e2d3ca",
   "metadata": {},
   "outputs": [],
   "source": [
    "chain = chat_template | chat"
   ]
  },
  {
   "cell_type": "code",
   "execution_count": 7,
   "id": "0a8de531",
   "metadata": {},
   "outputs": [
    {
     "data": {
      "text/plain": [
       "AIMessage(content=\"1. Start Training Early: Begin training your shepherd dog as soon as you bring him home. This breed is intelligent and eager to learn, so starting early will help establish good behavior.\\n\\n2. Consistency is Key: Be consistent with your commands and expectations. If you allow your dog to do something once, he will think it's always acceptable. \\n\\n3. Positive Reinforcement: Always use positive reinforcement when training. This could be in the form of treats, praise, or petting. Never\", additional_kwargs={'refusal': None}, response_metadata={'token_usage': {'completion_tokens': 100, 'prompt_tokens': 25, 'total_tokens': 125, 'completion_tokens_details': {'accepted_prediction_tokens': 0, 'audio_tokens': 0, 'reasoning_tokens': 0, 'rejected_prediction_tokens': 0}, 'prompt_tokens_details': {'audio_tokens': 0, 'cached_tokens': 0}}, 'model_name': 'gpt-4-0613', 'system_fingerprint': None, 'id': 'chatcmpl-C6FS4pL5yPoyHlz7uFkec3ve6Ve4t', 'service_tier': 'default', 'finish_reason': 'length', 'logprobs': None}, id='run--c6c8e86d-56e5-459b-b102-eb19d75623e1-0', usage_metadata={'input_tokens': 25, 'output_tokens': 100, 'total_tokens': 125, 'input_token_details': {'audio': 0, 'cache_read': 0}, 'output_token_details': {'audio': 0, 'reasoning': 0}})"
      ]
     },
     "execution_count": 7,
     "metadata": {},
     "output_type": "execute_result"
    }
   ],
   "source": [
    "chain.invoke({\"pet\": \"dog\", \"breed\": \"shepherd\"})"
   ]
  },
  {
   "cell_type": "code",
   "execution_count": 9,
   "id": "3d44fc89",
   "metadata": {},
   "outputs": [
    {
     "name": "stdout",
     "output_type": "stream",
     "text": [
      "CPU times: total: 15.6 ms\n",
      "Wall time: 5.53 s\n"
     ]
    },
    {
     "data": {
      "text/plain": [
       "[AIMessage(content=\"1. Start Training Early: Begin training your shepherd as soon as you bring them home. This will help them understand their boundaries and what is expected of them.\\n\\n2. Consistency is Key: Be consistent with your commands and training. If you allow your dog to do something once, they will think it's always acceptable. \\n\\n3. Positive Reinforcement: Always reward good behavior. This can be through treats, praise, or petting. This will encourage your dog to repeat the behavior.\\n\\n4\", additional_kwargs={'refusal': None}, response_metadata={'token_usage': {'completion_tokens': 100, 'prompt_tokens': 27, 'total_tokens': 127, 'completion_tokens_details': {'accepted_prediction_tokens': 0, 'audio_tokens': 0, 'reasoning_tokens': 0, 'rejected_prediction_tokens': 0}, 'prompt_tokens_details': {'audio_tokens': 0, 'cached_tokens': 0}}, 'model_name': 'gpt-4-0613', 'system_fingerprint': None, 'id': 'chatcmpl-C6FeXEbcbOo1loEsZjwZUlioP9tuA', 'service_tier': 'default', 'finish_reason': 'length', 'logprobs': None}, id='run--3c8399c6-1b8c-4e2d-85ff-63cc5d626638-0', usage_metadata={'input_tokens': 27, 'output_tokens': 100, 'total_tokens': 127, 'input_token_details': {'audio': 0, 'cache_read': 0}, 'output_token_details': {'audio': 0, 'reasoning': 0}}),\n",
       " AIMessage(content='Training a dragon, especially a Night Fury, is no small task. Here are some tips to help you:\\n\\n1. Establish Trust: Night Furies are intelligent and sensitive creatures. They need to trust you before they can be trained. Spend time with your dragon, talk to it, and show it that you mean no harm.\\n\\n2. Understand Their Behavior: Night Furies are nocturnal creatures. They are most active during the night and prefer to hunt and play in the dark. Understanding their behavior', additional_kwargs={'refusal': None}, response_metadata={'token_usage': {'completion_tokens': 100, 'prompt_tokens': 26, 'total_tokens': 126, 'completion_tokens_details': {'accepted_prediction_tokens': 0, 'audio_tokens': 0, 'reasoning_tokens': 0, 'rejected_prediction_tokens': 0}, 'prompt_tokens_details': {'audio_tokens': 0, 'cached_tokens': 0}}, 'model_name': 'gpt-4-0613', 'system_fingerprint': None, 'id': 'chatcmpl-C6FeYOnI7S3TmiqGwwwTCredvA1Ie', 'service_tier': 'default', 'finish_reason': 'length', 'logprobs': None}, id='run--65cc911e-f814-4806-b72c-4390fced6882-0', usage_metadata={'input_tokens': 26, 'output_tokens': 100, 'total_tokens': 126, 'input_token_details': {'audio': 0, 'cache_read': 0}, 'output_token_details': {'audio': 0, 'reasoning': 0}})]"
      ]
     },
     "execution_count": 9,
     "metadata": {},
     "output_type": "execute_result"
    }
   ],
   "source": [
    "%%time\n",
    "chain.batch([{\"pet\": \"dog\",\"breed\": \"sheperd\"}, {\"pet\": \"dragon\", \"breed\": \"night fury\"}])"
   ]
  },
  {
   "cell_type": "code",
   "execution_count": 10,
   "id": "423fa27d",
   "metadata": {},
   "outputs": [
    {
     "name": "stdout",
     "output_type": "stream",
     "text": [
      "CPU times: total: 15.6 ms\n",
      "Wall time: 5.08 s\n"
     ]
    },
    {
     "data": {
      "text/plain": [
       "AIMessage(content=\"1. Start Training Early: Begin training your shepherd dog as soon as you bring them home. This will help them understand their boundaries and what is expected of them.\\n\\n2. Consistency is Key: Be consistent with your commands and training. If you allow your dog to do something once, they will think it's always acceptable. \\n\\n3. Positive Reinforcement: Always use positive reinforcement when training. This could be in the form of treats, praise, or petting. Never use punishment as a\", additional_kwargs={'refusal': None}, response_metadata={'token_usage': {'completion_tokens': 100, 'prompt_tokens': 27, 'total_tokens': 127, 'completion_tokens_details': {'accepted_prediction_tokens': 0, 'audio_tokens': 0, 'reasoning_tokens': 0, 'rejected_prediction_tokens': 0}, 'prompt_tokens_details': {'audio_tokens': 0, 'cached_tokens': 0}}, 'model_name': 'gpt-4-0613', 'system_fingerprint': None, 'id': 'chatcmpl-C6FecbQ45qa5oJCbGxMu9ZbjuK4q2', 'service_tier': 'default', 'finish_reason': 'length', 'logprobs': None}, id='run--499ed102-3444-4a07-97ab-1979726be959-0', usage_metadata={'input_tokens': 27, 'output_tokens': 100, 'total_tokens': 127, 'input_token_details': {'audio': 0, 'cache_read': 0}, 'output_token_details': {'audio': 0, 'reasoning': 0}})"
      ]
     },
     "execution_count": 10,
     "metadata": {},
     "output_type": "execute_result"
    }
   ],
   "source": [
    "%%time\n",
    "chain.invoke({\"pet\": \"dog\", \"breed\": \"shephred\"})"
   ]
  },
  {
   "cell_type": "code",
   "execution_count": 11,
   "id": "34dd6378",
   "metadata": {},
   "outputs": [
    {
     "name": "stdout",
     "output_type": "stream",
     "text": [
      "CPU times: total: 31.2 ms\n",
      "Wall time: 6.11 s\n"
     ]
    },
    {
     "data": {
      "text/plain": [
       "AIMessage(content='Training a dragon, especially a Night Fury, is no small task. Here are some tips to help you:\\n\\n1. Establish Trust: Night Furies are intelligent and sensitive creatures. They need to trust you before they can be trained. Spend time with your dragon, talk to it, and show it that you mean no harm.\\n\\n2. Positive Reinforcement: Like any other pet, dragons respond well to positive reinforcement. Reward your dragon with treats or affection when it behaves well. This will encourage it', additional_kwargs={'refusal': None}, response_metadata={'token_usage': {'completion_tokens': 100, 'prompt_tokens': 26, 'total_tokens': 126, 'completion_tokens_details': {'accepted_prediction_tokens': 0, 'audio_tokens': 0, 'reasoning_tokens': 0, 'rejected_prediction_tokens': 0}, 'prompt_tokens_details': {'audio_tokens': 0, 'cached_tokens': 0}}, 'model_name': 'gpt-4-0613', 'system_fingerprint': None, 'id': 'chatcmpl-C6Fei49LFBwSh5NvQ9RY10vrwR7tc', 'service_tier': 'default', 'finish_reason': 'length', 'logprobs': None}, id='run--a53c4b18-bc7d-4a27-ba95-aa7b0ca13f65-0', usage_metadata={'input_tokens': 26, 'output_tokens': 100, 'total_tokens': 126, 'input_token_details': {'audio': 0, 'cache_read': 0}, 'output_token_details': {'audio': 0, 'reasoning': 0}})"
      ]
     },
     "execution_count": 11,
     "metadata": {},
     "output_type": "execute_result"
    }
   ],
   "source": [
    "%%time\n",
    "chain.invoke({\"pet\": \"dragon\", \"breed\": \"night fury\"})"
   ]
  },
  {
   "cell_type": "markdown",
   "id": "d8096432",
   "metadata": {},
   "source": [
    "# Streaming"
   ]
  },
  {
   "cell_type": "code",
   "execution_count": 12,
   "id": "6196ba21",
   "metadata": {},
   "outputs": [
    {
     "data": {
      "text/plain": [
       "<generator object RunnableSequence.stream at 0x0000021AD32B2B60>"
      ]
     },
     "execution_count": 12,
     "metadata": {},
     "output_type": "execute_result"
    }
   ],
   "source": [
    "chain.stream({\"pet\": \"dragon\", \"breed\": \"night fury\"})"
   ]
  },
  {
   "cell_type": "code",
   "execution_count": 26,
   "id": "138756a6",
   "metadata": {},
   "outputs": [],
   "source": [
    "response = chain.stream({\"pet\": \"dragon\", \"breed\": \"night fury\"})"
   ]
  },
  {
   "cell_type": "code",
   "execution_count": 23,
   "id": "10233378",
   "metadata": {},
   "outputs": [
    {
     "ename": "StopIteration",
     "evalue": "",
     "output_type": "error",
     "traceback": [
      "\u001b[31m---------------------------------------------------------------------------\u001b[39m",
      "\u001b[31mStopIteration\u001b[39m                             Traceback (most recent call last)",
      "\u001b[36mCell\u001b[39m\u001b[36m \u001b[39m\u001b[32mIn[23]\u001b[39m\u001b[32m, line 1\u001b[39m\n\u001b[32m----> \u001b[39m\u001b[32m1\u001b[39m \u001b[38;5;28;43mnext\u001b[39;49m\u001b[43m(\u001b[49m\u001b[43mresponse\u001b[49m\u001b[43m)\u001b[49m\n",
      "\u001b[31mStopIteration\u001b[39m: "
     ]
    }
   ],
   "source": [
    "next(response) # exa -> max_token = 5 , to see the next working and after 5 token or running it 5 time it exhaust it's limit."
   ]
  },
  {
   "cell_type": "code",
   "execution_count": 28,
   "id": "60c384e8",
   "metadata": {},
   "outputs": [
    {
     "name": "stdout",
     "output_type": "stream",
     "text": [
      "Training a dragon, especially a Night Fury, is no small task. Here are some tips to help you:\n",
      "\n",
      "1. Establish Trust: Night Furies are intelligent and sensitive creatures. They need to trust you before they can be trained. Spend time with your dragon, talk to it, and show it that you mean no harm.\n",
      "\n",
      "2. Understand Their Behavior: Night Furies are known for their stealth and agility. They are also very protective. Understand these behaviors and use them to your advantage during training"
     ]
    }
   ],
   "source": [
    "for i in response:\n",
    "    print(i.content, end=\"\")"
   ]
  },
  {
   "cell_type": "code",
   "execution_count": null,
   "id": "1109ced1",
   "metadata": {},
   "outputs": [],
   "source": []
  }
 ],
 "metadata": {
  "kernelspec": {
   "display_name": "Langchain_env",
   "language": "python",
   "name": "langchain_env"
  },
  "language_info": {
   "codemirror_mode": {
    "name": "ipython",
    "version": 3
   },
   "file_extension": ".py",
   "mimetype": "text/x-python",
   "name": "python",
   "nbconvert_exporter": "python",
   "pygments_lexer": "ipython3",
   "version": "3.12.3"
  }
 },
 "nbformat": 4,
 "nbformat_minor": 5
}
