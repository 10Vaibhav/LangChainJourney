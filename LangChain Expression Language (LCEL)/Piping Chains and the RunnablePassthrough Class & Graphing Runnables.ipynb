{
 "cells": [
  {
   "cell_type": "markdown",
   "id": "1deb84e8",
   "metadata": {},
   "source": [
    "\n",
    "# Piping Chains and the RunnablePassthrough Class"
   ]
  },
  {
   "cell_type": "code",
   "execution_count": 1,
   "id": "1db071db",
   "metadata": {},
   "outputs": [],
   "source": [
    "%load_ext dotenv\n",
    "%dotenv"
   ]
  },
  {
   "cell_type": "code",
   "execution_count": 4,
   "id": "5b9911c2",
   "metadata": {},
   "outputs": [],
   "source": [
    "from langchain_core.prompts import ChatPromptTemplate\n",
    "from langchain_openai import ChatOpenAI\n",
    "from langchain_core.output_parsers import StrOutputParser\n",
    "from langchain_core.runnables import RunnablePassthrough"
   ]
  },
  {
   "cell_type": "code",
   "execution_count": 5,
   "id": "17d7d95e",
   "metadata": {},
   "outputs": [
    {
     "data": {
      "text/plain": [
       "[1, 2, 3]"
      ]
     },
     "execution_count": 5,
     "metadata": {},
     "output_type": "execute_result"
    }
   ],
   "source": [
    "RunnablePassthrough().invoke([1,2,3])"
   ]
  },
  {
   "cell_type": "code",
   "execution_count": 8,
   "id": "d1076476",
   "metadata": {},
   "outputs": [],
   "source": [
    "chat_template_tools = ChatPromptTemplate.from_template('''\n",
    "What are the five most important tools a {job title} need?\n",
    "Answer only by listing the tools.\n",
    "''')\n",
    "\n",
    "chat_template_strategy = ChatPromptTemplate.from_template('''\n",
    "Considering the tools provided, develop a strategy for effectively learning and mastering them:\n",
    "{tools}\n",
    "''')"
   ]
  },
  {
   "cell_type": "code",
   "execution_count": 9,
   "id": "62352ad7",
   "metadata": {},
   "outputs": [
    {
     "data": {
      "text/plain": [
       "ChatPromptTemplate(input_variables=['job title'], input_types={}, partial_variables={}, messages=[HumanMessagePromptTemplate(prompt=PromptTemplate(input_variables=['job title'], input_types={}, partial_variables={}, template='\\nWhat are the five most important tools a {job title} need?\\nAnswer only by listing the tools.\\n'), additional_kwargs={})])"
      ]
     },
     "execution_count": 9,
     "metadata": {},
     "output_type": "execute_result"
    }
   ],
   "source": [
    "chat_template_tools"
   ]
  },
  {
   "cell_type": "code",
   "execution_count": 10,
   "id": "793c6e7b",
   "metadata": {},
   "outputs": [
    {
     "name": "stderr",
     "output_type": "stream",
     "text": [
      "C:\\Users\\Asus\\.conda\\envs\\Langchain_env\\Lib\\site-packages\\IPython\\core\\interactiveshell.py:3639: UserWarning: Parameters {'seed'} should be specified explicitly. Instead they were passed in as part of `model_kwargs` parameter.\n",
      "  if await self.run_code(code, result, async_=asy):\n"
     ]
    }
   ],
   "source": [
    "chat = ChatOpenAI(model_name = \"gpt-4\",\n",
    "                  model_kwargs = {\"seed\": 365},\n",
    "                  temperature = 0,\n",
    "                  max_tokens = 100)"
   ]
  },
  {
   "cell_type": "code",
   "execution_count": 11,
   "id": "93e21e9a",
   "metadata": {},
   "outputs": [],
   "source": [
    "string_parser = StrOutputParser()"
   ]
  },
  {
   "cell_type": "code",
   "execution_count": 17,
   "id": "2b0c4156",
   "metadata": {},
   "outputs": [],
   "source": [
    "chain_tools = chat_template_tools | chat | string_parser | {'tools': RunnablePassthrough()}\n",
    "chain_strategy = chat_template_strategy | chat | string_parser"
   ]
  },
  {
   "cell_type": "code",
   "execution_count": 18,
   "id": "41684421",
   "metadata": {},
   "outputs": [
    {
     "name": "stdout",
     "output_type": "stream",
     "text": [
      "{'tools': '1. Python\\n2. R Programming\\n3. SQL\\n4. Tableau\\n5. Hadoop'}\n"
     ]
    }
   ],
   "source": [
    "print(chain_tools.invoke({\"job title\": \"data scientist\"}))"
   ]
  },
  {
   "cell_type": "code",
   "execution_count": 16,
   "id": "313d9fdc",
   "metadata": {},
   "outputs": [
    {
     "name": "stdout",
     "output_type": "stream",
     "text": [
      "1. Python: Start with the basics of Python, such as variables, data types, operators, and control flow. Once you have a good understanding of these, move on to more complex topics like functions, classes, and error handling. Use online resources like Codecademy, Coursera, or Python's official documentation to learn. Practice coding regularly, work on small projects, and gradually move on to more complex ones. \n",
      "\n",
      "2. R Programming: Start with the basics of R, such\n"
     ]
    }
   ],
   "source": [
    "print(chain_strategy.invoke({\"tools\": '''\n",
    "1. Python\n",
    "2. R Programming\n",
    "3. SQL \n",
    "4. Tableau\n",
    "5. Hadoop\n",
    "'''}))"
   ]
  },
  {
   "cell_type": "code",
   "execution_count": 19,
   "id": "34014a3c",
   "metadata": {},
   "outputs": [],
   "source": [
    "chain_combined = chain_tools | chain_strategy"
   ]
  },
  {
   "cell_type": "code",
   "execution_count": 20,
   "id": "0a9117ea",
   "metadata": {},
   "outputs": [
    {
     "name": "stdout",
     "output_type": "stream",
     "text": [
      "1. Python: Start with the basics of Python, such as variables, data types, loops, and functions. Use online resources like Codecademy, Coursera, or edX for structured learning. Practice coding problems on platforms like HackerRank or LeetCode. Once you're comfortable with the basics, move on to more advanced topics like object-oriented programming, data structures, and algorithms. Then, explore libraries like NumPy, Pandas, and Matplotlib for data analysis and visualization. \n",
      "\n",
      "\n"
     ]
    }
   ],
   "source": [
    "print(chain_combined.invoke({\"job title\": \"data scientist\"}))"
   ]
  },
  {
   "cell_type": "code",
   "execution_count": 21,
   "id": "fc1a081e",
   "metadata": {},
   "outputs": [],
   "source": [
    "chain_long = (chat_template_tools | chat | string_parser | {\"tools\": RunnablePassthrough()} | \n",
    "              chat_template_strategy | chat | string_parser)"
   ]
  },
  {
   "cell_type": "markdown",
   "id": "6c9db1a6",
   "metadata": {},
   "source": [
    "# Graphing Runnables"
   ]
  },
  {
   "cell_type": "code",
   "execution_count": 23,
   "id": "b3bc6890",
   "metadata": {},
   "outputs": [
    {
     "name": "stdout",
     "output_type": "stream",
     "text": [
      "     +-------------+       \r\n",
      "     | PromptInput |       \r\n",
      "     +-------------+       \r\n",
      "            *              \r\n",
      "            *              \r\n",
      "            *              \r\n",
      "  +--------------------+   \r\n",
      "  | ChatPromptTemplate |   \r\n",
      "  +--------------------+   \r\n",
      "            *              \r\n",
      "            *              \r\n",
      "            *              \r\n",
      "      +------------+       \r\n",
      "      | ChatOpenAI |       \r\n",
      "      +------------+       \r\n",
      "            *              \r\n",
      "            *              \r\n",
      "            *              \r\n",
      "   +-----------------+     \r\n",
      "   | StrOutputParser |     \r\n",
      "   +-----------------+     \r\n",
      "            *              \r\n",
      "            *              \r\n",
      "            *              \r\n",
      "+-----------------------+  \r\n",
      "| StrOutputParserOutput |  \r\n",
      "+-----------------------+  \r\n",
      "            *              \r\n",
      "            *              \r\n",
      "            *              \r\n",
      "     +-------------+       \r\n",
      "     | Passthrough |       \r\n",
      "     +-------------+       \r\n",
      "            *              \r\n",
      "            *              \r\n",
      "            *              \r\n",
      "  +--------------------+   \r\n",
      "  | ChatPromptTemplate |   \r\n",
      "  +--------------------+   \r\n",
      "            *              \r\n",
      "            *              \r\n",
      "            *              \r\n",
      "      +------------+       \r\n",
      "      | ChatOpenAI |       \r\n",
      "      +------------+       \r\n",
      "            *              \r\n",
      "            *              \r\n",
      "            *              \r\n",
      "   +-----------------+     \r\n",
      "   | StrOutputParser |     \r\n",
      "   +-----------------+     \r\n",
      "            *              \r\n",
      "            *              \r\n",
      "            *              \r\n",
      "+-----------------------+  \r\n",
      "| StrOutputParserOutput |  \r\n",
      "+-----------------------+  \n"
     ]
    }
   ],
   "source": [
    "chain_long.get_graph().print_ascii()"
   ]
  },
  {
   "cell_type": "code",
   "execution_count": null,
   "id": "4b07d9d3",
   "metadata": {},
   "outputs": [],
   "source": []
  }
 ],
 "metadata": {
  "kernelspec": {
   "display_name": "Langchain_env",
   "language": "python",
   "name": "langchain_env"
  },
  "language_info": {
   "codemirror_mode": {
    "name": "ipython",
    "version": 3
   },
   "file_extension": ".py",
   "mimetype": "text/x-python",
   "name": "python",
   "nbconvert_exporter": "python",
   "pygments_lexer": "ipython3",
   "version": "3.12.3"
  }
 },
 "nbformat": 4,
 "nbformat_minor": 5
}
