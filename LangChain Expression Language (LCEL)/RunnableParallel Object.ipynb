{
 "cells": [
  {
   "cell_type": "markdown",
   "id": "d5c17973",
   "metadata": {},
   "source": [
    "# Runnable Parallel Object"
   ]
  },
  {
   "cell_type": "code",
   "execution_count": 1,
   "id": "37cb19d7",
   "metadata": {},
   "outputs": [],
   "source": [
    "%load_ext dotenv\n",
    "%dotenv"
   ]
  },
  {
   "cell_type": "code",
   "execution_count": 2,
   "id": "31674cdc",
   "metadata": {},
   "outputs": [],
   "source": [
    "from langchain_core.prompts import ChatPromptTemplate\n",
    "from langchain_openai import ChatOpenAI\n",
    "from langchain_core.output_parsers import StrOutputParser\n",
    "from langchain_core.runnables import RunnableParallel"
   ]
  },
  {
   "cell_type": "code",
   "execution_count": 15,
   "id": "16d8327e",
   "metadata": {},
   "outputs": [],
   "source": [
    "chat_template_books = ChatPromptTemplate.from_template(\n",
    "'''\n",
    "Suggest three of the best intermediate-level {programming language} books.\n",
    "Answer only by listing the books.\n",
    "''')\n",
    "\n",
    "chat_template_projects = ChatPromptTemplate.from_template(\n",
    "'''\n",
    "Suggest three interesting {programming language} projects suitable for intermedidate-level programmers.\n",
    "Answer only by listing the projects.\n",
    "''')\n",
    "\n",
    "chat_template_time = ChatPromptTemplate.from_template(\n",
    "'''\n",
    "I'am an intermediate level programmer.\n",
    "\n",
    "Consider the following literature:\n",
    "{books}\n",
    "\n",
    "Also, consider the following projects:\n",
    "{projects}\n",
    "\n",
    "Roughly how much time would it take me to complete the literature and the projects?\n",
    "'''\n",
    ")"
   ]
  },
  {
   "cell_type": "code",
   "execution_count": 17,
   "id": "38305135",
   "metadata": {},
   "outputs": [
    {
     "name": "stderr",
     "output_type": "stream",
     "text": [
      "C:\\Users\\Asus\\.conda\\envs\\Langchain_env\\Lib\\site-packages\\IPython\\core\\interactiveshell.py:3639: UserWarning: Parameters {'seed'} should be specified explicitly. Instead they were passed in as part of `model_kwargs` parameter.\n",
      "  if await self.run_code(code, result, async_=asy):\n"
     ]
    }
   ],
   "source": [
    "chat = ChatOpenAI(model_name = \"gpt-4\",\n",
    "                  model_kwargs = {\"seed\": 365},\n",
    "                  temperature = 0,\n",
    "                  max_tokens = 500)"
   ]
  },
  {
   "cell_type": "code",
   "execution_count": 5,
   "id": "6f6c5369",
   "metadata": {},
   "outputs": [],
   "source": [
    "string_parser = StrOutputParser()"
   ]
  },
  {
   "cell_type": "code",
   "execution_count": 6,
   "id": "83e16049",
   "metadata": {},
   "outputs": [],
   "source": [
    "chain_books = chat_template_books | chat | string_parser\n",
    "\n",
    "chain_projects = chat_template_projects | chat | string_parser"
   ]
  },
  {
   "cell_type": "code",
   "execution_count": 7,
   "id": "aee77183",
   "metadata": {},
   "outputs": [],
   "source": [
    "chain_parallel = RunnableParallel({\"books\": chain_books, \"projects\": chain_projects})"
   ]
  },
  {
   "cell_type": "code",
   "execution_count": 8,
   "id": "75cdc44a",
   "metadata": {},
   "outputs": [
    {
     "data": {
      "text/plain": [
       "{'books': '1. \"Fluent Python: Clear, Concise, and Effective Programming\" by Luciano Ramalho\\n2. \"Python Cookbook: Recipes for Mastering Python 3\" by David Beazley and Brian K. Jones\\n3. \"Effective Python: 90 Specific Ways to Write Better Python\" by Brett Slatkin',\n",
       " 'projects': '1. Building a Weather Forecasting Application using APIs\\n2. Developing a Web Scraper for E-commerce Websites\\n3. Creating a Personal Finance Tracker/Budgeting Tool'}"
      ]
     },
     "execution_count": 8,
     "metadata": {},
     "output_type": "execute_result"
    }
   ],
   "source": [
    "chain_parallel.invoke({\"programming language\": \"Python\"})"
   ]
  },
  {
   "cell_type": "code",
   "execution_count": 9,
   "id": "4c9d063d",
   "metadata": {},
   "outputs": [
    {
     "name": "stdout",
     "output_type": "stream",
     "text": [
      "            +-------------------------------+              \r\n",
      "            | Parallel<books,projects>Input |              \r\n",
      "            +-------------------------------+              \r\n",
      "                   ***               ***                   \r\n",
      "                ***                     ***                \r\n",
      "              **                           **              \r\n",
      "+--------------------+              +--------------------+ \r\n",
      "| ChatPromptTemplate |              | ChatPromptTemplate | \r\n",
      "+--------------------+              +--------------------+ \r\n",
      "           *                                   *           \r\n",
      "           *                                   *           \r\n",
      "           *                                   *           \r\n",
      "    +------------+                      +------------+     \r\n",
      "    | ChatOpenAI |                      | ChatOpenAI |     \r\n",
      "    +------------+                      +------------+     \r\n",
      "           *                                   *           \r\n",
      "           *                                   *           \r\n",
      "           *                                   *           \r\n",
      "  +-----------------+                 +-----------------+  \r\n",
      "  | StrOutputParser |                 | StrOutputParser |  \r\n",
      "  +-----------------+                 +-----------------+  \r\n",
      "                   ***               ***                   \r\n",
      "                      ***         ***                      \r\n",
      "                         **     **                         \r\n",
      "            +--------------------------------+             \r\n",
      "            | Parallel<books,projects>Output |             \r\n",
      "            +--------------------------------+             \n"
     ]
    }
   ],
   "source": [
    "chain_parallel.get_graph().print_ascii()"
   ]
  },
  {
   "cell_type": "code",
   "execution_count": 10,
   "id": "8b574092",
   "metadata": {},
   "outputs": [],
   "source": [
    "# batch() -> Allowed us to invoke teh same Runnable with different input values."
   ]
  },
  {
   "cell_type": "code",
   "execution_count": 11,
   "id": "4739e90c",
   "metadata": {},
   "outputs": [],
   "source": [
    "# RunnableParallel -> Allows us to execute several Runnables using identical input values."
   ]
  },
  {
   "cell_type": "code",
   "execution_count": 12,
   "id": "697abc27",
   "metadata": {},
   "outputs": [
    {
     "name": "stdout",
     "output_type": "stream",
     "text": [
      "CPU times: total: 15.6 ms\n",
      "Wall time: 2.18 s\n"
     ]
    },
    {
     "data": {
      "text/plain": [
       "'1. \"Fluent Python: Clear, Concise, and Effective Programming\" by Luciano Ramalho\\n2. \"Python Cookbook: Recipes for Mastering Python 3\" by David Beazley and Brian K. Jones\\n3. \"Effective Python: 90 Specific Ways to Write Better Python\" by Brett Slatkin'"
      ]
     },
     "execution_count": 12,
     "metadata": {},
     "output_type": "execute_result"
    }
   ],
   "source": [
    "%%time\n",
    "chain_books.invoke({\"programming language\": \"python\"})"
   ]
  },
  {
   "cell_type": "code",
   "execution_count": 13,
   "id": "448b6d80",
   "metadata": {},
   "outputs": [
    {
     "name": "stdout",
     "output_type": "stream",
     "text": [
      "CPU times: total: 15.6 ms\n",
      "Wall time: 3.72 s\n"
     ]
    },
    {
     "data": {
      "text/plain": [
       "'1. Building a Weather Forecasting Application using APIs\\n2. Developing a Web Scraper for E-commerce Websites\\n3. Creating a Personal Finance Tracker/Budgeting Tool'"
      ]
     },
     "execution_count": 13,
     "metadata": {},
     "output_type": "execute_result"
    }
   ],
   "source": [
    "%%time\n",
    "chain_projects.invoke({\"programming language\": \"python\"})"
   ]
  },
  {
   "cell_type": "code",
   "execution_count": 14,
   "id": "33673e00",
   "metadata": {},
   "outputs": [
    {
     "name": "stdout",
     "output_type": "stream",
     "text": [
      "CPU times: total: 62.5 ms\n",
      "Wall time: 3.46 s\n"
     ]
    },
    {
     "data": {
      "text/plain": [
       "{'books': '1. \"Fluent Python: Clear, Concise, and Effective Programming\" by Luciano Ramalho\\n2. \"Python Cookbook: Recipes for Mastering Python 3\" by David Beazley and Brian K. Jones\\n3. \"Effective Python: 90 Specific Ways to Write Better Python\" by Brett Slatkin',\n",
       " 'projects': '1. Building a Weather Forecasting Application using APIs\\n2. Developing a Personal Finance Tracker with Data Visualization\\n3. Creating a Web Scraper for E-commerce Websites.'}"
      ]
     },
     "execution_count": 14,
     "metadata": {},
     "output_type": "execute_result"
    }
   ],
   "source": [
    "%%time\n",
    "chain_parallel.invoke({\"programming language\": \"python\"})"
   ]
  },
  {
   "cell_type": "markdown",
   "id": "4e68021c",
   "metadata": {},
   "source": [
    "# Piping a RunnableParallel with Other Runnables"
   ]
  },
  {
   "cell_type": "code",
   "execution_count": 18,
   "id": "3d00294b",
   "metadata": {},
   "outputs": [],
   "source": [
    "chain_time = (RunnableParallel({\"books\": chain_books,\n",
    "                                \"projects\": chain_projects})\n",
    "              | chat_template_time\n",
    "              | chat\n",
    "              | string_parser\n",
    "             )"
   ]
  },
  {
   "cell_type": "code",
   "execution_count": 19,
   "id": "7d97a99d",
   "metadata": {},
   "outputs": [
    {
     "name": "stdout",
     "output_type": "stream",
     "text": [
      "The time it would take to complete the literature and the projects can vary greatly depending on several factors such as your reading speed, comprehension level, the complexity of the projects, and the amount of time you can dedicate each day. \n",
      "\n",
      "However, as a rough estimate:\n",
      "\n",
      "1. \"Fluent Python: Clear, Concise, and Effective Programming\" - This book is around 800 pages. If you read and practice for about 2 hours a day, it might take you around 1-2 months to complete.\n",
      "\n",
      "2. \"Python Cookbook: Recipes for Mastering Python 3\" - This book is around 700 pages. Again, if you read and practice for about 2 hours a day, it might take you around 1-2 months to complete.\n",
      "\n",
      "3. \"Effective Python: 90 Specific Ways to Write Better Python\" - This book is around 230 pages. If you read and practice for about 2 hours a day, it might take you around 2-3 weeks to complete.\n",
      "\n",
      "For the projects:\n",
      "\n",
      "1. Building a Weather Forecasting Application using APIs - Depending on the complexity of the application and your familiarity with APIs, this could take anywhere from a few days to a couple of weeks.\n",
      "\n",
      "2. Developing a Web Scraper for E-commerce Websites - This could be a more complex project, especially if you're new to web scraping. It might take you 2-4 weeks.\n",
      "\n",
      "3. Creating a Personal Finance Tracker/Budgeting Tool - This could also be a complex project, especially if it involves a user interface and data storage. It might take you 3-5 weeks.\n",
      "\n",
      "So in total, you might expect to spend around 5-7 months to complete all the books and projects, if you're spending around 2 hours a day. But remember, these are just rough estimates and the actual time could be more or less depending on various factors.\n"
     ]
    }
   ],
   "source": [
    "print(chain_time.invoke({'programming language': \"Python\"}))"
   ]
  },
  {
   "cell_type": "code",
   "execution_count": 20,
   "id": "5f2d798a",
   "metadata": {},
   "outputs": [
    {
     "name": "stdout",
     "output_type": "stream",
     "text": [
      "            +-------------------------------+              \r\n",
      "            | Parallel<books,projects>Input |              \r\n",
      "            +-------------------------------+              \r\n",
      "                   ***               ***                   \r\n",
      "                ***                     ***                \r\n",
      "              **                           **              \r\n",
      "+--------------------+              +--------------------+ \r\n",
      "| ChatPromptTemplate |              | ChatPromptTemplate | \r\n",
      "+--------------------+              +--------------------+ \r\n",
      "           *                                   *           \r\n",
      "           *                                   *           \r\n",
      "           *                                   *           \r\n",
      "    +------------+                      +------------+     \r\n",
      "    | ChatOpenAI |                      | ChatOpenAI |     \r\n",
      "    +------------+                      +------------+     \r\n",
      "           *                                   *           \r\n",
      "           *                                   *           \r\n",
      "           *                                   *           \r\n",
      "  +-----------------+                 +-----------------+  \r\n",
      "  | StrOutputParser |                 | StrOutputParser |  \r\n",
      "  +-----------------+                 +-----------------+  \r\n",
      "                   ***               ***                   \r\n",
      "                      ***         ***                      \r\n",
      "                         **     **                         \r\n",
      "            +--------------------------------+             \r\n",
      "            | Parallel<books,projects>Output |             \r\n",
      "            +--------------------------------+             \r\n",
      "                             *                             \r\n",
      "                             *                             \r\n",
      "                             *                             \r\n",
      "                  +--------------------+                   \r\n",
      "                  | ChatPromptTemplate |                   \r\n",
      "                  +--------------------+                   \r\n",
      "                             *                             \r\n",
      "                             *                             \r\n",
      "                             *                             \r\n",
      "                      +------------+                       \r\n",
      "                      | ChatOpenAI |                       \r\n",
      "                      +------------+                       \r\n",
      "                             *                             \r\n",
      "                             *                             \r\n",
      "                             *                             \r\n",
      "                    +-----------------+                    \r\n",
      "                    | StrOutputParser |                    \r\n",
      "                    +-----------------+                    \r\n",
      "                             *                             \r\n",
      "                             *                             \r\n",
      "                             *                             \r\n",
      "                +-----------------------+                  \r\n",
      "                | StrOutputParserOutput |                  \r\n",
      "                +-----------------------+                  \n"
     ]
    }
   ],
   "source": [
    "chain_time.get_graph().print_ascii()"
   ]
  },
  {
   "cell_type": "code",
   "execution_count": null,
   "id": "ab187b3d",
   "metadata": {},
   "outputs": [],
   "source": []
  }
 ],
 "metadata": {
  "kernelspec": {
   "display_name": "Langchain_env",
   "language": "python",
   "name": "langchain_env"
  },
  "language_info": {
   "codemirror_mode": {
    "name": "ipython",
    "version": 3
   },
   "file_extension": ".py",
   "mimetype": "text/x-python",
   "name": "python",
   "nbconvert_exporter": "python",
   "pygments_lexer": "ipython3",
   "version": "3.12.3"
  }
 },
 "nbformat": 4,
 "nbformat_minor": 5
}
